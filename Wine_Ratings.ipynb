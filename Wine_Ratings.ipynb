{
 "cells": [
  {
   "cell_type": "markdown",
   "metadata": {},
   "source": [
    "### Цель исследования:"
   ]
  },
  {
   "cell_type": "markdown",
   "metadata": {},
   "source": [
    "Необходимо выявить определяющие популярность марки вина закономерности и попытаться выяснить, что можно предложить покупателям вина при выборе вина. Это позволит сделать ставку на потенциально популярный продукт и спланировать например рекламную кампанию для интернет-магазинов, осуществляющих продажи вина.\n",
    "\n",
    "Выполнение задачи предполагает:<br>\n",
    "<a href=#1>1.  Предобработку данных</a><br>\n",
    "<a href=#2>2.  Исследовательский анализ данных</a><br>\n",
    "<a href=#3>3.  Составление портрета пользователя.</a><br>\n",
    "<a href=#4>4.  Исследование статистических показателей.</a><br>\n",
    "<a href=#5>5.  Проверку гипотез.</a><br>\n",
    "<a href=#6>6.  Выводы</a><br>\n",
    "\n",
    "Цель этого проекта — выявить, какие признаки больше всего влияют на рейтинг вина. Для анализа используется набор данных из Kaggle, крупнейшего в мире сообщества специалистов по данным и машинному обучению. Набор данных состоит из 13 признаков (2 числовых признака и 11 категориальных признаков). "
   ]
  },
  {
   "cell_type": "markdown",
   "metadata": {},
   "source": [
    "## Шаг 1. Открытие файла с данными и изучение общей информации\n",
    "\n",
    "\n",
    "\n",
    "## Шаг 2. Подготовка данных\n",
    "\n",
    "* Заменить названия столбцов (привести к нижнему регистру).\n",
    "* Преобразовать данные в нужные типы. Описать, в каких столбцах заменили тип данных и почему.\n",
    "* Обработать пропуски при необходимости.\n",
    "* Объяснить, почему заполнили пропуски определённым образом или почему не стали это делать.\n",
    "* Описать причины, которые могли привести к пропускам.\n",
    "* Посчитать среднии цены для каждой страны.\n",
    "* Внести новый столбец \"Континенты\"\n",
    "country_to_continent = {<br>\n",
    "    'Italy':'Europe', <br>\n",
    "    'Portugal':'Europe', <br>\n",
    "    'US':'North America', <br>\n",
    "    'Spain':'Europe',<br>\n",
    "    'France':'Europe',<br>\n",
    "    'Germany':'Europe',<br>\n",
    "    'Argentina':'Latin America', <br>\n",
    "    'Chile':'Latin America', <br>\n",
    "    'Australia': 'Oceania', <br>\n",
    "    'Austria': 'Europe', <br>\n",
    "    'South Africa': 'Africa',<br>\n",
    "    'New Zealand': 'Oceania', <br>\n",
    "    'Israel': 'Asia', <br>\n",
    "    'Hungary':'Europe', <br>\n",
    "    'Greece':'Europe',<br>\n",
    "    'Romania':'Europe', <br>\n",
    "    'Mexico':'Latin America',<br>\n",
    "    'Canada':'North America',<br>\n",
    "    'Turkey': 'Asia',<br>\n",
    "    'Czech Republic': 'Europe',<br>\n",
    "    'Slovenia': 'Europe',<br>\n",
    "    'Luxembourg': 'Europe',<br>\n",
    "    'Croatia': 'Europe',<br>\n",
    "    'Georgia':'Europe', <br>\n",
    "    'Uruguay': 'Latin America',<br>\n",
    "    'England': 'Europe',<br>\n",
    "    'Lebanon': 'Asia', <br>\n",
    "    'Serbia': 'Europe', <br>\n",
    "    'Brazil': 'Latin America',<br> \n",
    "    'Moldova': 'Europe', <br>\n",
    "    'Morocco':'Africa',<br>\n",
    "    'Peru':'Latin America',<br>\n",
    "    'India':'Asia', <br>\n",
    "    'Bulgaria':'Europe',<br>\n",
    "    'Cyprus': 'Europe',<br>\n",
    "    'Armenia':'Asia',<br>\n",
    "    'Switzerland':'Europe',<br>\n",
    "    'Bosnia and Herzegovina':'Europe',<br>\n",
    "    'Ukraine':'Europe',<br>\n",
    "    'Slovakia':'Europe', <br>\n",
    "    'Macedonia':'Europe',<br>\n",
    "    'China':'Asia',<br>\n",
    "    'Egypt':'Africa'<br>\n",
    "    }<br>\n",
    "\n",
    "## Шаг 3. Провести исследовательский анализ данных\n",
    "\n",
    "* Определить, какие сорта лидируют по рейтингам. Найти популярные сорта по региону.\n",
    "* Выбрать сорта с наибольшими ценами. Для каждого региона найдите среднюю цену вина.\n",
    "* Определить, популярные сорта вина в бюджетном сегменте.\n",
    "* Определить, какие сорта вина лидируют по рейтингам. \n",
    "* Построить график «ящик с усами» по рейтингам в разбивке по странам, по сортам вина.\n",
    "* Выявить закономерность влияния на цену цвета и рейтинга. Построить диаграмму рассеяния и посчитать корреляцию. \n",
    "\n",
    "\n",
    "## Шаг 4. Составить портрет потребителя каждого региона\n",
    "\n",
    "Определить для пользователя каждого континента :\n",
    "* Самые популярные сорта (топ-5). \n",
    "* Влияет ли рейтинг на цены по регионам?\n",
    "\n",
    "## Шаг 5. Провести исследование статистических показателей\n",
    "\n",
    "* Выполнить подсчитать среднего количества, дисперсии и стандартного отклонения для цен на продукт различных регионов. Построить гистограммы. Описать распределения. \n",
    "* Построить линейную регрессию зависимости между ценой продукта и его рейтингом.\n",
    "\n",
    "## Шаг 6. Проверка гипотез\n",
    "\n",
    "* H0: Средние пользовательские рейтинги красного и белого вина одинаковые.\n",
    "* H1:Средние пользовательские рейтинги красного и белого вина разные.\n",
    "\n",
    "\n",
    "* H0:Средние цены двух популярных сортов вина одинаковые.\n",
    "* H1:Средние цены двух популярных сортов вина разные.\n",
    "\n",
    "Задать самостоятельно пороговое значение alpha.\n",
    "\n",
    "\n",
    "## Вывод"
   ]
  },
  {
   "cell_type": "markdown",
   "metadata": {},
   "source": [
    "## 1. Открытие файла с данными и изучение общей информации"
   ]
  },
  {
   "cell_type": "markdown",
   "metadata": {},
   "source": [
    "Импортируем необходимые библиотеки"
   ]
  },
  {
   "cell_type": "code",
   "execution_count": 1,
   "metadata": {},
   "outputs": [],
   "source": [
    "# вызов библиотеки numpy\n",
    "import numpy as np\n",
    "# импорт библиотеки pandas\n",
    "import pandas as pd\n",
    "# импорт библиотеки seaborn\n",
    "import seaborn as sns\n",
    "# импорт библиотеки matplotlib\n",
    "import matplotlib.mlab as mlab\n",
    "import matplotlib.pyplot as plt\n",
    "%matplotlib inline\n",
    "# импорт библиотеки scipy\n",
    "import scipy.stats as stat\n",
    "# импорт библиотеки csv\n",
    "import csv\n",
    "# импорт библиотеки math\n",
    "import math\n",
    "# импорт библиотеки os\n",
    "import os\n",
    "# импорт библиотеки warnings\n",
    "import warnings\n",
    "warnings.simplefilter(action='ignore', category=FutureWarning)"
   ]
  },
  {
   "cell_type": "markdown",
   "metadata": {},
   "source": [
    "Загрузка данных в Pandas DataFrame."
   ]
  },
  {
   "cell_type": "code",
   "execution_count": 2,
   "metadata": {},
   "outputs": [
    {
     "data": {
      "text/html": [
       "<div>\n",
       "<style scoped>\n",
       "    .dataframe tbody tr th:only-of-type {\n",
       "        vertical-align: middle;\n",
       "    }\n",
       "\n",
       "    .dataframe tbody tr th {\n",
       "        vertical-align: top;\n",
       "    }\n",
       "\n",
       "    .dataframe thead th {\n",
       "        text-align: right;\n",
       "    }\n",
       "</style>\n",
       "<table border=\"1\" class=\"dataframe\">\n",
       "  <thead>\n",
       "    <tr style=\"text-align: right;\">\n",
       "      <th></th>\n",
       "      <th>country</th>\n",
       "      <th>description</th>\n",
       "      <th>designation</th>\n",
       "      <th>points</th>\n",
       "      <th>price</th>\n",
       "      <th>province</th>\n",
       "      <th>region_1</th>\n",
       "      <th>region_2</th>\n",
       "      <th>variety</th>\n",
       "      <th>winery</th>\n",
       "    </tr>\n",
       "  </thead>\n",
       "  <tbody>\n",
       "    <tr>\n",
       "      <th>0</th>\n",
       "      <td>US</td>\n",
       "      <td>With a delicate, silky mouthfeel and bright ac...</td>\n",
       "      <td>NaN</td>\n",
       "      <td>86</td>\n",
       "      <td>23.0</td>\n",
       "      <td>California</td>\n",
       "      <td>Central Coast</td>\n",
       "      <td>Central Coast</td>\n",
       "      <td>Pinot Noir</td>\n",
       "      <td>MacMurray Ranch</td>\n",
       "    </tr>\n",
       "    <tr>\n",
       "      <th>1</th>\n",
       "      <td>Italy</td>\n",
       "      <td>D'Alceo is a drop dead gorgeous wine that ooze...</td>\n",
       "      <td>D'Alceo</td>\n",
       "      <td>96</td>\n",
       "      <td>275.0</td>\n",
       "      <td>Tuscany</td>\n",
       "      <td>Toscana</td>\n",
       "      <td>NaN</td>\n",
       "      <td>Red Blend</td>\n",
       "      <td>Castello dei Rampolla</td>\n",
       "    </tr>\n",
       "    <tr>\n",
       "      <th>2</th>\n",
       "      <td>France</td>\n",
       "      <td>The great dominance of Cabernet Sauvignon in t...</td>\n",
       "      <td>NaN</td>\n",
       "      <td>91</td>\n",
       "      <td>40.0</td>\n",
       "      <td>Bordeaux</td>\n",
       "      <td>Haut-Médoc</td>\n",
       "      <td>NaN</td>\n",
       "      <td>Bordeaux-style Red Blend</td>\n",
       "      <td>Château Bernadotte</td>\n",
       "    </tr>\n",
       "    <tr>\n",
       "      <th>3</th>\n",
       "      <td>Italy</td>\n",
       "      <td>The modest cherry, dark berry and black tea no...</td>\n",
       "      <td>NaN</td>\n",
       "      <td>81</td>\n",
       "      <td>15.0</td>\n",
       "      <td>Tuscany</td>\n",
       "      <td>Chianti Classico</td>\n",
       "      <td>NaN</td>\n",
       "      <td>Sangiovese</td>\n",
       "      <td>Valiano</td>\n",
       "    </tr>\n",
       "    <tr>\n",
       "      <th>4</th>\n",
       "      <td>US</td>\n",
       "      <td>Exceedingly light in color, scent and flavor, ...</td>\n",
       "      <td>NaN</td>\n",
       "      <td>83</td>\n",
       "      <td>25.0</td>\n",
       "      <td>Oregon</td>\n",
       "      <td>Rogue Valley</td>\n",
       "      <td>Southern Oregon</td>\n",
       "      <td>Pinot Noir</td>\n",
       "      <td>Deer Creek</td>\n",
       "    </tr>\n",
       "    <tr>\n",
       "      <th>...</th>\n",
       "      <td>...</td>\n",
       "      <td>...</td>\n",
       "      <td>...</td>\n",
       "      <td>...</td>\n",
       "      <td>...</td>\n",
       "      <td>...</td>\n",
       "      <td>...</td>\n",
       "      <td>...</td>\n",
       "      <td>...</td>\n",
       "      <td>...</td>\n",
       "    </tr>\n",
       "    <tr>\n",
       "      <th>19995</th>\n",
       "      <td>France</td>\n",
       "      <td>Firm wine, with tannins to match the chunky st...</td>\n",
       "      <td>Mansois</td>\n",
       "      <td>88</td>\n",
       "      <td>12.0</td>\n",
       "      <td>Southwest France</td>\n",
       "      <td>Marcillac</td>\n",
       "      <td>NaN</td>\n",
       "      <td>Mansois</td>\n",
       "      <td>Lionel Osmin &amp; Cie</td>\n",
       "    </tr>\n",
       "    <tr>\n",
       "      <th>19996</th>\n",
       "      <td>US</td>\n",
       "      <td>The vineyard is on the Napa side of Carneros. ...</td>\n",
       "      <td>Estate Vineyard</td>\n",
       "      <td>89</td>\n",
       "      <td>50.0</td>\n",
       "      <td>California</td>\n",
       "      <td>Carneros</td>\n",
       "      <td>Napa-Sonoma</td>\n",
       "      <td>Pinot Noir</td>\n",
       "      <td>Bouchaine</td>\n",
       "    </tr>\n",
       "    <tr>\n",
       "      <th>19997</th>\n",
       "      <td>Italy</td>\n",
       "      <td>Lighea is a terrific wine and an excellent pai...</td>\n",
       "      <td>Lighea</td>\n",
       "      <td>87</td>\n",
       "      <td>20.0</td>\n",
       "      <td>Sicily &amp; Sardinia</td>\n",
       "      <td>Sicilia</td>\n",
       "      <td>NaN</td>\n",
       "      <td>Zibibbo</td>\n",
       "      <td>Donnafugata</td>\n",
       "    </tr>\n",
       "    <tr>\n",
       "      <th>19998</th>\n",
       "      <td>Italy</td>\n",
       "      <td>Organically farmed Cannonau grapes deliver sma...</td>\n",
       "      <td>Le Sabbie</td>\n",
       "      <td>87</td>\n",
       "      <td>NaN</td>\n",
       "      <td>Sicily &amp; Sardinia</td>\n",
       "      <td>Cannonau di Sardegna</td>\n",
       "      <td>NaN</td>\n",
       "      <td>Cannonau</td>\n",
       "      <td>Meloni</td>\n",
       "    </tr>\n",
       "    <tr>\n",
       "      <th>19999</th>\n",
       "      <td>US</td>\n",
       "      <td>Grown on the Sonoma side of the appellation, i...</td>\n",
       "      <td>NaN</td>\n",
       "      <td>92</td>\n",
       "      <td>35.0</td>\n",
       "      <td>California</td>\n",
       "      <td>Carneros</td>\n",
       "      <td>Napa-Sonoma</td>\n",
       "      <td>Syrah</td>\n",
       "      <td>Saintsbury</td>\n",
       "    </tr>\n",
       "  </tbody>\n",
       "</table>\n",
       "<p>20000 rows × 10 columns</p>\n",
       "</div>"
      ],
      "text/plain": [
       "      country                                        description  \\\n",
       "0          US  With a delicate, silky mouthfeel and bright ac...   \n",
       "1       Italy  D'Alceo is a drop dead gorgeous wine that ooze...   \n",
       "2      France  The great dominance of Cabernet Sauvignon in t...   \n",
       "3       Italy  The modest cherry, dark berry and black tea no...   \n",
       "4          US  Exceedingly light in color, scent and flavor, ...   \n",
       "...       ...                                                ...   \n",
       "19995  France  Firm wine, with tannins to match the chunky st...   \n",
       "19996      US  The vineyard is on the Napa side of Carneros. ...   \n",
       "19997   Italy  Lighea is a terrific wine and an excellent pai...   \n",
       "19998   Italy  Organically farmed Cannonau grapes deliver sma...   \n",
       "19999      US  Grown on the Sonoma side of the appellation, i...   \n",
       "\n",
       "           designation  points  price           province  \\\n",
       "0                  NaN      86   23.0         California   \n",
       "1              D'Alceo      96  275.0            Tuscany   \n",
       "2                  NaN      91   40.0           Bordeaux   \n",
       "3                  NaN      81   15.0            Tuscany   \n",
       "4                  NaN      83   25.0             Oregon   \n",
       "...                ...     ...    ...                ...   \n",
       "19995          Mansois      88   12.0   Southwest France   \n",
       "19996  Estate Vineyard      89   50.0         California   \n",
       "19997           Lighea      87   20.0  Sicily & Sardinia   \n",
       "19998        Le Sabbie      87    NaN  Sicily & Sardinia   \n",
       "19999              NaN      92   35.0         California   \n",
       "\n",
       "                   region_1         region_2                   variety  \\\n",
       "0             Central Coast    Central Coast                Pinot Noir   \n",
       "1                   Toscana              NaN                 Red Blend   \n",
       "2                Haut-Médoc              NaN  Bordeaux-style Red Blend   \n",
       "3          Chianti Classico              NaN                Sangiovese   \n",
       "4              Rogue Valley  Southern Oregon                Pinot Noir   \n",
       "...                     ...              ...                       ...   \n",
       "19995             Marcillac              NaN                   Mansois   \n",
       "19996              Carneros      Napa-Sonoma                Pinot Noir   \n",
       "19997               Sicilia              NaN                   Zibibbo   \n",
       "19998  Cannonau di Sardegna              NaN                  Cannonau   \n",
       "19999              Carneros      Napa-Sonoma                     Syrah   \n",
       "\n",
       "                      winery  \n",
       "0            MacMurray Ranch  \n",
       "1      Castello dei Rampolla  \n",
       "2         Château Bernadotte  \n",
       "3                    Valiano  \n",
       "4                 Deer Creek  \n",
       "...                      ...  \n",
       "19995     Lionel Osmin & Cie  \n",
       "19996              Bouchaine  \n",
       "19997            Donnafugata  \n",
       "19998                 Meloni  \n",
       "19999             Saintsbury  \n",
       "\n",
       "[20000 rows x 10 columns]"
      ]
     },
     "metadata": {},
     "output_type": "display_data"
    }
   ],
   "source": [
    "df = pd.read_csv('../data/wine_reviews.csv')\n",
    "display(df)"
   ]
  },
  {
   "cell_type": "markdown",
   "metadata": {},
   "source": [
    "#### Столбцы данных\n",
    "\n",
    "- Страна - страна происхождения вина.\n",
    "- Описание — описание вкусового профиля вина.\n",
    "- Обозначение - виноградник, откуда берется виноград для вина.\n",
    "- Баллы - количество баллов на которое критик журнала Wine Enthusiast оценил вино по шкале от 1 до 100.\n",
    "- Цена - стоимость одной бутылки вина.\n",
    "- Провинция — провинция или штат, из которого произведено вино.\n",
    "- Регион 1 — зона виноделия в провинции или штате (например, долина Напа в Калифорнии).\n",
    "- Регион 2 — (не обязательно) более конкретный регион в винодельческой области (например, Резерфорд в долине Напа).\n",
    "- Разновидность — сорт винограда, из которого делают вино (например, Пино Нуар).\n",
    "- Винодельня — винодельня, производящая вино."
   ]
  },
  {
   "cell_type": "code",
   "execution_count": 3,
   "metadata": {},
   "outputs": [
    {
     "name": "stdout",
     "output_type": "stream",
     "text": [
      "<class 'pandas.core.frame.DataFrame'>\n",
      "RangeIndex: 20000 entries, 0 to 19999\n",
      "Data columns (total 10 columns):\n",
      " #   Column       Non-Null Count  Dtype  \n",
      "---  ------       --------------  -----  \n",
      " 0   country      20000 non-null  object \n",
      " 1   description  20000 non-null  object \n",
      " 2   designation  13999 non-null  object \n",
      " 3   points       20000 non-null  int64  \n",
      " 4   price        18198 non-null  float64\n",
      " 5   province     20000 non-null  object \n",
      " 6   region_1     16543 non-null  object \n",
      " 7   region_2     8058 non-null   object \n",
      " 8   variety      20000 non-null  object \n",
      " 9   winery       20000 non-null  object \n",
      "dtypes: float64(1), int64(1), object(8)\n",
      "memory usage: 1.5+ MB\n"
     ]
    }
   ],
   "source": [
    "df.info()"
   ]
  },
  {
   "cell_type": "markdown",
   "metadata": {},
   "source": [
    "Количество значений в столбцах различается. Это говорит о том, что в данных есть пустые значения. Признак points и price числовые."
   ]
  },
  {
   "cell_type": "markdown",
   "metadata": {},
   "source": [
    "Посчитаем размерность данных (количество строк и стоблцов)."
   ]
  },
  {
   "cell_type": "code",
   "execution_count": 4,
   "metadata": {},
   "outputs": [
    {
     "name": "stdout",
     "output_type": "stream",
     "text": [
      "Количество строк = 20000\n",
      "Количество столбцов = 10\n"
     ]
    }
   ],
   "source": [
    "a, b = df.shape\n",
    "print('Количество строк =', a)\n",
    "print('Количество столбцов =', b)"
   ]
  },
  {
   "cell_type": "markdown",
   "metadata": {},
   "source": [
    "Размерность данных: 20 000 строк на 10 столбцов"
   ]
  },
  {
   "cell_type": "markdown",
   "metadata": {},
   "source": [
    "## Шаг 2. Подготовка данных"
   ]
  },
  {
   "cell_type": "markdown",
   "metadata": {},
   "source": [
    "* Заменить названия столбцов (привести к нижнему регистру).\n",
    "* Преобразовать данные в нужные типы. Описать, в каких столбцах заменили тип данных и почему.\n",
    "* Обработать пропуски при необходимости.\n",
    "* Объяснить, почему заполнили пропуски определённым образом или почему не стали это делать.\n",
    "* Описать причины, которые могли привести к пропускам.\n",
    "* Посчитать среднии цены для каждой страны.\n",
    "* Внести новый столбец \"Континенты\"\n",
    "country_to_continent = {<br>\n",
    "    'Italy':'Europe', <br>\n",
    "    'Portugal':'Europe', <br>\n",
    "    'US':'North America', <br>\n",
    "    'Spain':'Europe',<br>\n",
    "    'France':'Europe',<br>\n",
    "    'Germany':'Europe',<br>\n",
    "    'Argentina':'Latin America', <br>\n",
    "    'Chile':'Latin America', <br>\n",
    "    'Australia': 'Oceania', <br>\n",
    "    'Austria': 'Europe', <br>\n",
    "    'South Africa': 'Africa',<br>\n",
    "    'New Zealand': 'Oceania', <br>\n",
    "    'Israel': 'Asia', <br>\n",
    "    'Hungary':'Europe', <br>\n",
    "    'Greece':'Europe',<br>\n",
    "    'Romania':'Europe', <br>\n",
    "    'Mexico':'Latin America',<br>\n",
    "    'Canada':'North America',<br>\n",
    "    'Turkey': 'Asia',<br>\n",
    "    'Czech Republic': 'Europe',<br>\n",
    "    'Slovenia': 'Europe',<br>\n",
    "    'Luxembourg': 'Europe',<br>\n",
    "    'Croatia': 'Europe',<br>\n",
    "    'Georgia':'Europe', <br>\n",
    "    'Uruguay': 'Latin America',<br>\n",
    "    'England': 'Europe',<br>\n",
    "    'Lebanon': 'Asia', <br>\n",
    "    'Serbia': 'Europe', <br>\n",
    "    'Brazil': 'Latin America',<br> \n",
    "    'Moldova': 'Europe', <br>\n",
    "    'Morocco':'Africa',<br>\n",
    "    'Peru':'Latin America',<br>\n",
    "    'India':'Asia', <br>\n",
    "    'Bulgaria':'Europe',<br>\n",
    "    'Cyprus': 'Europe',<br>\n",
    "    'Armenia':'Asia',<br>\n",
    "    'Switzerland':'Europe',<br>\n",
    "    'Bosnia and Herzegovina':'Europe',<br>\n",
    "    'Ukraine':'Europe',<br>\n",
    "    'Slovakia':'Europe', <br>\n",
    "    'Macedonia':'Europe',<br>\n",
    "    'China':'Asia',<br>\n",
    "    'Egypt':'Africa'<br>\n",
    "    }<br>"
   ]
  },
  {
   "cell_type": "markdown",
   "metadata": {},
   "source": [
    "#### Заменить названия столбцов (привести к нижнему регистру)."
   ]
  },
  {
   "cell_type": "code",
   "execution_count": 5,
   "metadata": {},
   "outputs": [
    {
     "data": {
      "text/html": [
       "<div>\n",
       "<style scoped>\n",
       "    .dataframe tbody tr th:only-of-type {\n",
       "        vertical-align: middle;\n",
       "    }\n",
       "\n",
       "    .dataframe tbody tr th {\n",
       "        vertical-align: top;\n",
       "    }\n",
       "\n",
       "    .dataframe thead th {\n",
       "        text-align: right;\n",
       "    }\n",
       "</style>\n",
       "<table border=\"1\" class=\"dataframe\">\n",
       "  <thead>\n",
       "    <tr style=\"text-align: right;\">\n",
       "      <th></th>\n",
       "      <th>country</th>\n",
       "      <th>description</th>\n",
       "      <th>designation</th>\n",
       "      <th>points</th>\n",
       "      <th>price</th>\n",
       "      <th>province</th>\n",
       "      <th>region_1</th>\n",
       "      <th>region_2</th>\n",
       "      <th>variety</th>\n",
       "      <th>winery</th>\n",
       "    </tr>\n",
       "  </thead>\n",
       "  <tbody>\n",
       "    <tr>\n",
       "      <th>0</th>\n",
       "      <td>US</td>\n",
       "      <td>With a delicate, silky mouthfeel and bright ac...</td>\n",
       "      <td>NaN</td>\n",
       "      <td>86</td>\n",
       "      <td>23.0</td>\n",
       "      <td>California</td>\n",
       "      <td>Central Coast</td>\n",
       "      <td>Central Coast</td>\n",
       "      <td>Pinot Noir</td>\n",
       "      <td>MacMurray Ranch</td>\n",
       "    </tr>\n",
       "    <tr>\n",
       "      <th>1</th>\n",
       "      <td>Italy</td>\n",
       "      <td>D'Alceo is a drop dead gorgeous wine that ooze...</td>\n",
       "      <td>D'Alceo</td>\n",
       "      <td>96</td>\n",
       "      <td>275.0</td>\n",
       "      <td>Tuscany</td>\n",
       "      <td>Toscana</td>\n",
       "      <td>NaN</td>\n",
       "      <td>Red Blend</td>\n",
       "      <td>Castello dei Rampolla</td>\n",
       "    </tr>\n",
       "  </tbody>\n",
       "</table>\n",
       "</div>"
      ],
      "text/plain": [
       "  country                                        description designation  \\\n",
       "0      US  With a delicate, silky mouthfeel and bright ac...         NaN   \n",
       "1   Italy  D'Alceo is a drop dead gorgeous wine that ooze...     D'Alceo   \n",
       "\n",
       "   points  price    province       region_1       region_2     variety  \\\n",
       "0      86   23.0  California  Central Coast  Central Coast  Pinot Noir   \n",
       "1      96  275.0     Tuscany        Toscana            NaN   Red Blend   \n",
       "\n",
       "                  winery  \n",
       "0        MacMurray Ranch  \n",
       "1  Castello dei Rampolla  "
      ]
     },
     "execution_count": 5,
     "metadata": {},
     "output_type": "execute_result"
    }
   ],
   "source": [
    "df.columns = df.columns.str.lower()\n",
    "df.head(2)"
   ]
  },
  {
   "cell_type": "markdown",
   "metadata": {},
   "source": [
    "Все названия столбцов в нижнем регистре, названия вновь добавляемых столбцы также начинаются со строчных букв."
   ]
  },
  {
   "cell_type": "markdown",
   "metadata": {},
   "source": [
    "#### Преобразовать данные в нужные типы. Описать, в каких столбцах заменили тип данных и почему."
   ]
  },
  {
   "cell_type": "code",
   "execution_count": 6,
   "metadata": {},
   "outputs": [
    {
     "data": {
      "text/plain": [
       "country         object\n",
       "description     object\n",
       "designation     object\n",
       "points           int64\n",
       "price          float64\n",
       "province        object\n",
       "region_1        object\n",
       "region_2        object\n",
       "variety         object\n",
       "winery          object\n",
       "dtype: object"
      ]
     },
     "execution_count": 6,
     "metadata": {},
     "output_type": "execute_result"
    }
   ],
   "source": [
    "df.dtypes"
   ]
  },
  {
   "cell_type": "markdown",
   "metadata": {},
   "source": [
    "В представлнных данных, колонки \"оценка\" и \"цена\" имеют числовой тип данных, колонка \"оценка\" имеет целочисленный формат (100 бальная шкала данных не предусматривает значения ваещественного типа). Остальные колонки имеют тип данных - object. В итоге: необходимость конвертировать тип данных отдельных колонок отсутствует."
   ]
  },
  {
   "cell_type": "markdown",
   "metadata": {},
   "source": [
    "#### Обработать пропуски при необходимости."
   ]
  },
  {
   "cell_type": "markdown",
   "metadata": {},
   "source": [
    "На основе словаря color создадим переменную, в которой закодирован цвет вина."
   ]
  },
  {
   "cell_type": "code",
   "execution_count": 7,
   "metadata": {},
   "outputs": [],
   "source": [
    "color = {\"Chardonnay\": \"white\", \"Pinot Noir\": \"red\",\n",
    "    \"Cabernet Sauvignon\": \"red\", \"Red Blend\": \"red\",\n",
    "    \"Bordeaux-style Red Blend\": \"red\", \"Sauvignon Blanc\": \"white\",\n",
    "    \"Syrah\": \"red\", \"Riesling\": \"red\", \"Merlot\": \"red\",\n",
    "    \"Zinfandel\": \"red\", \"Sangiovese\": \"red\", \"Malbec\": \"red\",\n",
    "    \"White Blend\": \"white\", \"Rosé\": \"other\", \"Tempranillo\": \"red\",\n",
    "    \"Nebbiolo\": \"red\", \"Portuguese Red\": \"red\", \"Sparkling Blend\": \"other\",\n",
    "    \"Shiraz\": \"red\", \"Corvina, Rondinella, Molinara\": \"red\",\n",
    "    \"Rhône-style Red Blend\": \"red\", \"Barbera\": \"red\", \n",
    "    \"Pinot Gris\": \"white\", \"Viognier\": \"white\",\n",
    "    \"Bordeaux-style White Blend\": \"white\", \"Champagne Blend\": \"other\",\n",
    "    \"Port\": \"red\", \"Grüner Veltliner\": \"white\",\n",
    "    \"Gewürztraminer\": \"white\", \"Portuguese White\": \"white\", \n",
    "    \"Petite Sirah\": \"red\", \"Carmenère\": \"red\"\n",
    "}"
   ]
  },
  {
   "cell_type": "code",
   "execution_count": 8,
   "metadata": {},
   "outputs": [
    {
     "data": {
      "text/html": [
       "<div>\n",
       "<style scoped>\n",
       "    .dataframe tbody tr th:only-of-type {\n",
       "        vertical-align: middle;\n",
       "    }\n",
       "\n",
       "    .dataframe tbody tr th {\n",
       "        vertical-align: top;\n",
       "    }\n",
       "\n",
       "    .dataframe thead th {\n",
       "        text-align: right;\n",
       "    }\n",
       "</style>\n",
       "<table border=\"1\" class=\"dataframe\">\n",
       "  <thead>\n",
       "    <tr style=\"text-align: right;\">\n",
       "      <th></th>\n",
       "      <th>country</th>\n",
       "      <th>description</th>\n",
       "      <th>designation</th>\n",
       "      <th>points</th>\n",
       "      <th>price</th>\n",
       "      <th>province</th>\n",
       "      <th>region_1</th>\n",
       "      <th>region_2</th>\n",
       "      <th>variety</th>\n",
       "      <th>winery</th>\n",
       "      <th>color</th>\n",
       "    </tr>\n",
       "  </thead>\n",
       "  <tbody>\n",
       "    <tr>\n",
       "      <th>0</th>\n",
       "      <td>US</td>\n",
       "      <td>With a delicate, silky mouthfeel and bright ac...</td>\n",
       "      <td>NaN</td>\n",
       "      <td>86</td>\n",
       "      <td>23.0</td>\n",
       "      <td>California</td>\n",
       "      <td>Central Coast</td>\n",
       "      <td>Central Coast</td>\n",
       "      <td>Pinot Noir</td>\n",
       "      <td>MacMurray Ranch</td>\n",
       "      <td>red</td>\n",
       "    </tr>\n",
       "    <tr>\n",
       "      <th>1</th>\n",
       "      <td>Italy</td>\n",
       "      <td>D'Alceo is a drop dead gorgeous wine that ooze...</td>\n",
       "      <td>D'Alceo</td>\n",
       "      <td>96</td>\n",
       "      <td>275.0</td>\n",
       "      <td>Tuscany</td>\n",
       "      <td>Toscana</td>\n",
       "      <td>NaN</td>\n",
       "      <td>Red Blend</td>\n",
       "      <td>Castello dei Rampolla</td>\n",
       "      <td>red</td>\n",
       "    </tr>\n",
       "    <tr>\n",
       "      <th>2</th>\n",
       "      <td>France</td>\n",
       "      <td>The great dominance of Cabernet Sauvignon in t...</td>\n",
       "      <td>NaN</td>\n",
       "      <td>91</td>\n",
       "      <td>40.0</td>\n",
       "      <td>Bordeaux</td>\n",
       "      <td>Haut-Médoc</td>\n",
       "      <td>NaN</td>\n",
       "      <td>Bordeaux-style Red Blend</td>\n",
       "      <td>Château Bernadotte</td>\n",
       "      <td>red</td>\n",
       "    </tr>\n",
       "    <tr>\n",
       "      <th>3</th>\n",
       "      <td>Italy</td>\n",
       "      <td>The modest cherry, dark berry and black tea no...</td>\n",
       "      <td>NaN</td>\n",
       "      <td>81</td>\n",
       "      <td>15.0</td>\n",
       "      <td>Tuscany</td>\n",
       "      <td>Chianti Classico</td>\n",
       "      <td>NaN</td>\n",
       "      <td>Sangiovese</td>\n",
       "      <td>Valiano</td>\n",
       "      <td>red</td>\n",
       "    </tr>\n",
       "    <tr>\n",
       "      <th>4</th>\n",
       "      <td>US</td>\n",
       "      <td>Exceedingly light in color, scent and flavor, ...</td>\n",
       "      <td>NaN</td>\n",
       "      <td>83</td>\n",
       "      <td>25.0</td>\n",
       "      <td>Oregon</td>\n",
       "      <td>Rogue Valley</td>\n",
       "      <td>Southern Oregon</td>\n",
       "      <td>Pinot Noir</td>\n",
       "      <td>Deer Creek</td>\n",
       "      <td>red</td>\n",
       "    </tr>\n",
       "    <tr>\n",
       "      <th>...</th>\n",
       "      <td>...</td>\n",
       "      <td>...</td>\n",
       "      <td>...</td>\n",
       "      <td>...</td>\n",
       "      <td>...</td>\n",
       "      <td>...</td>\n",
       "      <td>...</td>\n",
       "      <td>...</td>\n",
       "      <td>...</td>\n",
       "      <td>...</td>\n",
       "      <td>...</td>\n",
       "    </tr>\n",
       "    <tr>\n",
       "      <th>19995</th>\n",
       "      <td>France</td>\n",
       "      <td>Firm wine, with tannins to match the chunky st...</td>\n",
       "      <td>Mansois</td>\n",
       "      <td>88</td>\n",
       "      <td>12.0</td>\n",
       "      <td>Southwest France</td>\n",
       "      <td>Marcillac</td>\n",
       "      <td>NaN</td>\n",
       "      <td>Mansois</td>\n",
       "      <td>Lionel Osmin &amp; Cie</td>\n",
       "      <td>NaN</td>\n",
       "    </tr>\n",
       "    <tr>\n",
       "      <th>19996</th>\n",
       "      <td>US</td>\n",
       "      <td>The vineyard is on the Napa side of Carneros. ...</td>\n",
       "      <td>Estate Vineyard</td>\n",
       "      <td>89</td>\n",
       "      <td>50.0</td>\n",
       "      <td>California</td>\n",
       "      <td>Carneros</td>\n",
       "      <td>Napa-Sonoma</td>\n",
       "      <td>Pinot Noir</td>\n",
       "      <td>Bouchaine</td>\n",
       "      <td>red</td>\n",
       "    </tr>\n",
       "    <tr>\n",
       "      <th>19997</th>\n",
       "      <td>Italy</td>\n",
       "      <td>Lighea is a terrific wine and an excellent pai...</td>\n",
       "      <td>Lighea</td>\n",
       "      <td>87</td>\n",
       "      <td>20.0</td>\n",
       "      <td>Sicily &amp; Sardinia</td>\n",
       "      <td>Sicilia</td>\n",
       "      <td>NaN</td>\n",
       "      <td>Zibibbo</td>\n",
       "      <td>Donnafugata</td>\n",
       "      <td>NaN</td>\n",
       "    </tr>\n",
       "    <tr>\n",
       "      <th>19998</th>\n",
       "      <td>Italy</td>\n",
       "      <td>Organically farmed Cannonau grapes deliver sma...</td>\n",
       "      <td>Le Sabbie</td>\n",
       "      <td>87</td>\n",
       "      <td>NaN</td>\n",
       "      <td>Sicily &amp; Sardinia</td>\n",
       "      <td>Cannonau di Sardegna</td>\n",
       "      <td>NaN</td>\n",
       "      <td>Cannonau</td>\n",
       "      <td>Meloni</td>\n",
       "      <td>NaN</td>\n",
       "    </tr>\n",
       "    <tr>\n",
       "      <th>19999</th>\n",
       "      <td>US</td>\n",
       "      <td>Grown on the Sonoma side of the appellation, i...</td>\n",
       "      <td>NaN</td>\n",
       "      <td>92</td>\n",
       "      <td>35.0</td>\n",
       "      <td>California</td>\n",
       "      <td>Carneros</td>\n",
       "      <td>Napa-Sonoma</td>\n",
       "      <td>Syrah</td>\n",
       "      <td>Saintsbury</td>\n",
       "      <td>red</td>\n",
       "    </tr>\n",
       "  </tbody>\n",
       "</table>\n",
       "<p>20000 rows × 11 columns</p>\n",
       "</div>"
      ],
      "text/plain": [
       "      country                                        description  \\\n",
       "0          US  With a delicate, silky mouthfeel and bright ac...   \n",
       "1       Italy  D'Alceo is a drop dead gorgeous wine that ooze...   \n",
       "2      France  The great dominance of Cabernet Sauvignon in t...   \n",
       "3       Italy  The modest cherry, dark berry and black tea no...   \n",
       "4          US  Exceedingly light in color, scent and flavor, ...   \n",
       "...       ...                                                ...   \n",
       "19995  France  Firm wine, with tannins to match the chunky st...   \n",
       "19996      US  The vineyard is on the Napa side of Carneros. ...   \n",
       "19997   Italy  Lighea is a terrific wine and an excellent pai...   \n",
       "19998   Italy  Organically farmed Cannonau grapes deliver sma...   \n",
       "19999      US  Grown on the Sonoma side of the appellation, i...   \n",
       "\n",
       "           designation  points  price           province  \\\n",
       "0                  NaN      86   23.0         California   \n",
       "1              D'Alceo      96  275.0            Tuscany   \n",
       "2                  NaN      91   40.0           Bordeaux   \n",
       "3                  NaN      81   15.0            Tuscany   \n",
       "4                  NaN      83   25.0             Oregon   \n",
       "...                ...     ...    ...                ...   \n",
       "19995          Mansois      88   12.0   Southwest France   \n",
       "19996  Estate Vineyard      89   50.0         California   \n",
       "19997           Lighea      87   20.0  Sicily & Sardinia   \n",
       "19998        Le Sabbie      87    NaN  Sicily & Sardinia   \n",
       "19999              NaN      92   35.0         California   \n",
       "\n",
       "                   region_1         region_2                   variety  \\\n",
       "0             Central Coast    Central Coast                Pinot Noir   \n",
       "1                   Toscana              NaN                 Red Blend   \n",
       "2                Haut-Médoc              NaN  Bordeaux-style Red Blend   \n",
       "3          Chianti Classico              NaN                Sangiovese   \n",
       "4              Rogue Valley  Southern Oregon                Pinot Noir   \n",
       "...                     ...              ...                       ...   \n",
       "19995             Marcillac              NaN                   Mansois   \n",
       "19996              Carneros      Napa-Sonoma                Pinot Noir   \n",
       "19997               Sicilia              NaN                   Zibibbo   \n",
       "19998  Cannonau di Sardegna              NaN                  Cannonau   \n",
       "19999              Carneros      Napa-Sonoma                     Syrah   \n",
       "\n",
       "                      winery color  \n",
       "0            MacMurray Ranch   red  \n",
       "1      Castello dei Rampolla   red  \n",
       "2         Château Bernadotte   red  \n",
       "3                    Valiano   red  \n",
       "4                 Deer Creek   red  \n",
       "...                      ...   ...  \n",
       "19995     Lionel Osmin & Cie   NaN  \n",
       "19996              Bouchaine   red  \n",
       "19997            Donnafugata   NaN  \n",
       "19998                 Meloni   NaN  \n",
       "19999             Saintsbury   red  \n",
       "\n",
       "[20000 rows x 11 columns]"
      ]
     },
     "execution_count": 8,
     "metadata": {},
     "output_type": "execute_result"
    }
   ],
   "source": [
    "df['color'] = df['variety'].map(color)\n",
    "df"
   ]
  },
  {
   "cell_type": "markdown",
   "metadata": {},
   "source": [
    "Посчитаем количество пропущенных значений в каждой переменной."
   ]
  },
  {
   "cell_type": "code",
   "execution_count": 9,
   "metadata": {},
   "outputs": [
    {
     "data": {
      "text/plain": [
       "country            0\n",
       "description        0\n",
       "designation     6001\n",
       "points             0\n",
       "price           1802\n",
       "province           0\n",
       "region_1        3457\n",
       "region_2       11942\n",
       "variety            0\n",
       "winery             0\n",
       "color           3501\n",
       "dtype: int64"
      ]
     },
     "metadata": {},
     "output_type": "display_data"
    }
   ],
   "source": [
    "display(df.isnull().sum())"
   ]
  },
  {
   "cell_type": "markdown",
   "metadata": {},
   "source": [
    "Определим долю пропусков в процентном отношении по убыванию"
   ]
  },
  {
   "cell_type": "code",
   "execution_count": 10,
   "metadata": {},
   "outputs": [
    {
     "data": {
      "text/html": [
       "<div>\n",
       "<style scoped>\n",
       "    .dataframe tbody tr th:only-of-type {\n",
       "        vertical-align: middle;\n",
       "    }\n",
       "\n",
       "    .dataframe tbody tr th {\n",
       "        vertical-align: top;\n",
       "    }\n",
       "\n",
       "    .dataframe thead th {\n",
       "        text-align: right;\n",
       "    }\n",
       "</style>\n",
       "<table border=\"1\" class=\"dataframe\">\n",
       "  <thead>\n",
       "    <tr style=\"text-align: right;\">\n",
       "      <th></th>\n",
       "      <th>Пропущенные значения</th>\n",
       "      <th>Процент</th>\n",
       "    </tr>\n",
       "  </thead>\n",
       "  <tbody>\n",
       "    <tr>\n",
       "      <th>region_2</th>\n",
       "      <td>11942</td>\n",
       "      <td>59.710</td>\n",
       "    </tr>\n",
       "    <tr>\n",
       "      <th>designation</th>\n",
       "      <td>6001</td>\n",
       "      <td>30.005</td>\n",
       "    </tr>\n",
       "    <tr>\n",
       "      <th>color</th>\n",
       "      <td>3501</td>\n",
       "      <td>17.505</td>\n",
       "    </tr>\n",
       "    <tr>\n",
       "      <th>region_1</th>\n",
       "      <td>3457</td>\n",
       "      <td>17.285</td>\n",
       "    </tr>\n",
       "    <tr>\n",
       "      <th>price</th>\n",
       "      <td>1802</td>\n",
       "      <td>9.010</td>\n",
       "    </tr>\n",
       "    <tr>\n",
       "      <th>country</th>\n",
       "      <td>0</td>\n",
       "      <td>0.000</td>\n",
       "    </tr>\n",
       "    <tr>\n",
       "      <th>description</th>\n",
       "      <td>0</td>\n",
       "      <td>0.000</td>\n",
       "    </tr>\n",
       "    <tr>\n",
       "      <th>points</th>\n",
       "      <td>0</td>\n",
       "      <td>0.000</td>\n",
       "    </tr>\n",
       "    <tr>\n",
       "      <th>province</th>\n",
       "      <td>0</td>\n",
       "      <td>0.000</td>\n",
       "    </tr>\n",
       "    <tr>\n",
       "      <th>variety</th>\n",
       "      <td>0</td>\n",
       "      <td>0.000</td>\n",
       "    </tr>\n",
       "    <tr>\n",
       "      <th>winery</th>\n",
       "      <td>0</td>\n",
       "      <td>0.000</td>\n",
       "    </tr>\n",
       "  </tbody>\n",
       "</table>\n",
       "</div>"
      ],
      "text/plain": [
       "             Пропущенные значения  Процент\n",
       "region_2                    11942   59.710\n",
       "designation                  6001   30.005\n",
       "color                        3501   17.505\n",
       "region_1                     3457   17.285\n",
       "price                        1802    9.010\n",
       "country                         0    0.000\n",
       "description                     0    0.000\n",
       "points                          0    0.000\n",
       "province                        0    0.000\n",
       "variety                         0    0.000\n",
       "winery                          0    0.000"
      ]
     },
     "execution_count": 10,
     "metadata": {},
     "output_type": "execute_result"
    }
   ],
   "source": [
    "MissingValue = df.isnull().sum().sort_values(ascending = False)\n",
    "Percent = (df.isnull().sum()/df.isnull().count()*100).sort_values(ascending = False)\n",
    "MissingData = pd.concat([MissingValue, Percent], axis=1, keys=['Пропущенные значения', 'Процент'])\n",
    "MissingData"
   ]
  },
  {
   "cell_type": "markdown",
   "metadata": {},
   "source": [
    "Наибольшая доля пропусков в колонках region_2 ~ 60%, что обусловлено редким указанием более детального вин, также пропуски есть в колонках designation (30%), color (18%), region_1 (17%), price (9%)."
   ]
  },
  {
   "cell_type": "markdown",
   "metadata": {},
   "source": [
    "В связи с тем, что признаки region_2 и designation не информативны для анализа, удалим их полностью"
   ]
  },
  {
   "cell_type": "code",
   "execution_count": 11,
   "metadata": {},
   "outputs": [
    {
     "data": {
      "text/html": [
       "<div>\n",
       "<style scoped>\n",
       "    .dataframe tbody tr th:only-of-type {\n",
       "        vertical-align: middle;\n",
       "    }\n",
       "\n",
       "    .dataframe tbody tr th {\n",
       "        vertical-align: top;\n",
       "    }\n",
       "\n",
       "    .dataframe thead th {\n",
       "        text-align: right;\n",
       "    }\n",
       "</style>\n",
       "<table border=\"1\" class=\"dataframe\">\n",
       "  <thead>\n",
       "    <tr style=\"text-align: right;\">\n",
       "      <th></th>\n",
       "      <th>country</th>\n",
       "      <th>description</th>\n",
       "      <th>points</th>\n",
       "      <th>price</th>\n",
       "      <th>province</th>\n",
       "      <th>region_1</th>\n",
       "      <th>variety</th>\n",
       "      <th>winery</th>\n",
       "      <th>color</th>\n",
       "    </tr>\n",
       "  </thead>\n",
       "  <tbody>\n",
       "    <tr>\n",
       "      <th>0</th>\n",
       "      <td>US</td>\n",
       "      <td>With a delicate, silky mouthfeel and bright ac...</td>\n",
       "      <td>86</td>\n",
       "      <td>23.0</td>\n",
       "      <td>California</td>\n",
       "      <td>Central Coast</td>\n",
       "      <td>Pinot Noir</td>\n",
       "      <td>MacMurray Ranch</td>\n",
       "      <td>red</td>\n",
       "    </tr>\n",
       "  </tbody>\n",
       "</table>\n",
       "</div>"
      ],
      "text/plain": [
       "  country                                        description  points  price  \\\n",
       "0      US  With a delicate, silky mouthfeel and bright ac...      86   23.0   \n",
       "\n",
       "     province       region_1     variety           winery color  \n",
       "0  California  Central Coast  Pinot Noir  MacMurray Ranch   red  "
      ]
     },
     "execution_count": 11,
     "metadata": {},
     "output_type": "execute_result"
    }
   ],
   "source": [
    "df= df.drop(columns = 'region_2')\n",
    "df= df.drop(columns = 'designation')\n",
    "df.head(1)"
   ]
  },
  {
   "cell_type": "markdown",
   "metadata": {},
   "source": [
    "Удалим строки не заполненым цветом"
   ]
  },
  {
   "cell_type": "code",
   "execution_count": 12,
   "metadata": {},
   "outputs": [],
   "source": [
    "df.dropna(inplace = True, subset = 'color')"
   ]
  },
  {
   "cell_type": "markdown",
   "metadata": {},
   "source": [
    "Удаляем пустые строки с ценами"
   ]
  },
  {
   "cell_type": "code",
   "execution_count": 13,
   "metadata": {},
   "outputs": [
    {
     "name": "stdout",
     "output_type": "stream",
     "text": [
      "Количество пропущеных значений: 1458\n",
      "Всего записей: 16499\n",
      "Процентное соотношение после удаления столбцов: 91.16%\n"
     ]
    }
   ],
   "source": [
    "total_records = len(df)\n",
    "missing_prices = df[\"price\"].isnull().sum()\n",
    "missing_ratio = 100 - ((missing_prices / total_records) * 100)\n",
    "print(\"Количество пропущеных значений: {}\".format(missing_prices)+ \"\\n\" +\n",
    "      \"Всего записей: {}\".format(total_records) + \"\\n\" + \n",
    "      \"Процентное соотношение после удаления столбцов: {:.2f}%\".format(missing_ratio))"
   ]
  },
  {
   "cell_type": "markdown",
   "metadata": {},
   "source": [
    "Если мы удалим все записи с отсутствующими ценами, мы останемся с 91,16% набора данных. Мы можем отбросить записи с отсутствующими значениями, данное действие не повлияет на результаты кардинально."
   ]
  },
  {
   "cell_type": "code",
   "execution_count": 14,
   "metadata": {},
   "outputs": [
    {
     "data": {
      "text/plain": [
       "country        15041\n",
       "description    15041\n",
       "points         15041\n",
       "price          15041\n",
       "province       15041\n",
       "region_1       12365\n",
       "variety        15041\n",
       "winery         15041\n",
       "color          15041\n",
       "dtype: int64"
      ]
     },
     "metadata": {},
     "output_type": "display_data"
    }
   ],
   "source": [
    "df = df.dropna(axis='index', how='any', subset=['price'])\n",
    "display(df.count())"
   ]
  },
  {
   "cell_type": "code",
   "execution_count": 15,
   "metadata": {},
   "outputs": [
    {
     "data": {
      "text/plain": [
       "0"
      ]
     },
     "execution_count": 15,
     "metadata": {},
     "output_type": "execute_result"
    }
   ],
   "source": [
    "df.isnull().sum().isnull().sum()"
   ]
  },
  {
   "cell_type": "code",
   "execution_count": 16,
   "metadata": {},
   "outputs": [
    {
     "name": "stdout",
     "output_type": "stream",
     "text": [
      "<class 'pandas.core.frame.DataFrame'>\n",
      "Int64Index: 15041 entries, 0 to 19999\n",
      "Data columns (total 9 columns):\n",
      " #   Column       Non-Null Count  Dtype  \n",
      "---  ------       --------------  -----  \n",
      " 0   country      15041 non-null  object \n",
      " 1   description  15041 non-null  object \n",
      " 2   points       15041 non-null  int64  \n",
      " 3   price        15041 non-null  float64\n",
      " 4   province     15041 non-null  object \n",
      " 5   region_1     12365 non-null  object \n",
      " 6   variety      15041 non-null  object \n",
      " 7   winery       15041 non-null  object \n",
      " 8   color        15041 non-null  object \n",
      "dtypes: float64(1), int64(1), object(7)\n",
      "memory usage: 1.1+ MB\n"
     ]
    }
   ],
   "source": [
    "df.info()"
   ]
  },
  {
   "cell_type": "markdown",
   "metadata": {},
   "source": [
    "Для удаления дубликатов:"
   ]
  },
  {
   "cell_type": "markdown",
   "metadata": {},
   "source": [
    "Посчитаем количество уникальных значений "
   ]
  },
  {
   "cell_type": "code",
   "execution_count": 17,
   "metadata": {},
   "outputs": [
    {
     "data": {
      "text/plain": [
       "country           33\n",
       "description    14200\n",
       "points            21\n",
       "price            203\n",
       "province         260\n",
       "region_1         693\n",
       "variety           32\n",
       "winery          5843\n",
       "color              3\n",
       "dtype: int64"
      ]
     },
     "execution_count": 17,
     "metadata": {},
     "output_type": "execute_result"
    }
   ],
   "source": [
    "df.nunique()"
   ]
  },
  {
   "cell_type": "markdown",
   "metadata": {},
   "source": [
    "Уберем дубликаты"
   ]
  },
  {
   "cell_type": "code",
   "execution_count": 18,
   "metadata": {},
   "outputs": [
    {
     "data": {
      "text/html": [
       "<div>\n",
       "<style scoped>\n",
       "    .dataframe tbody tr th:only-of-type {\n",
       "        vertical-align: middle;\n",
       "    }\n",
       "\n",
       "    .dataframe tbody tr th {\n",
       "        vertical-align: top;\n",
       "    }\n",
       "\n",
       "    .dataframe thead th {\n",
       "        text-align: right;\n",
       "    }\n",
       "</style>\n",
       "<table border=\"1\" class=\"dataframe\">\n",
       "  <thead>\n",
       "    <tr style=\"text-align: right;\">\n",
       "      <th></th>\n",
       "      <th>country</th>\n",
       "      <th>description</th>\n",
       "      <th>points</th>\n",
       "      <th>price</th>\n",
       "      <th>province</th>\n",
       "      <th>region_1</th>\n",
       "      <th>variety</th>\n",
       "      <th>winery</th>\n",
       "      <th>color</th>\n",
       "    </tr>\n",
       "  </thead>\n",
       "  <tbody>\n",
       "    <tr>\n",
       "      <th>0</th>\n",
       "      <td>US</td>\n",
       "      <td>With a delicate, silky mouthfeel and bright ac...</td>\n",
       "      <td>86</td>\n",
       "      <td>23.0</td>\n",
       "      <td>California</td>\n",
       "      <td>Central Coast</td>\n",
       "      <td>Pinot Noir</td>\n",
       "      <td>MacMurray Ranch</td>\n",
       "      <td>red</td>\n",
       "    </tr>\n",
       "    <tr>\n",
       "      <th>1</th>\n",
       "      <td>Italy</td>\n",
       "      <td>D'Alceo is a drop dead gorgeous wine that ooze...</td>\n",
       "      <td>96</td>\n",
       "      <td>275.0</td>\n",
       "      <td>Tuscany</td>\n",
       "      <td>Toscana</td>\n",
       "      <td>Red Blend</td>\n",
       "      <td>Castello dei Rampolla</td>\n",
       "      <td>red</td>\n",
       "    </tr>\n",
       "    <tr>\n",
       "      <th>2</th>\n",
       "      <td>France</td>\n",
       "      <td>The great dominance of Cabernet Sauvignon in t...</td>\n",
       "      <td>91</td>\n",
       "      <td>40.0</td>\n",
       "      <td>Bordeaux</td>\n",
       "      <td>Haut-Médoc</td>\n",
       "      <td>Bordeaux-style Red Blend</td>\n",
       "      <td>Château Bernadotte</td>\n",
       "      <td>red</td>\n",
       "    </tr>\n",
       "    <tr>\n",
       "      <th>3</th>\n",
       "      <td>Italy</td>\n",
       "      <td>The modest cherry, dark berry and black tea no...</td>\n",
       "      <td>81</td>\n",
       "      <td>15.0</td>\n",
       "      <td>Tuscany</td>\n",
       "      <td>Chianti Classico</td>\n",
       "      <td>Sangiovese</td>\n",
       "      <td>Valiano</td>\n",
       "      <td>red</td>\n",
       "    </tr>\n",
       "    <tr>\n",
       "      <th>4</th>\n",
       "      <td>US</td>\n",
       "      <td>Exceedingly light in color, scent and flavor, ...</td>\n",
       "      <td>83</td>\n",
       "      <td>25.0</td>\n",
       "      <td>Oregon</td>\n",
       "      <td>Rogue Valley</td>\n",
       "      <td>Pinot Noir</td>\n",
       "      <td>Deer Creek</td>\n",
       "      <td>red</td>\n",
       "    </tr>\n",
       "  </tbody>\n",
       "</table>\n",
       "</div>"
      ],
      "text/plain": [
       "  country                                        description  points  price  \\\n",
       "0      US  With a delicate, silky mouthfeel and bright ac...      86   23.0   \n",
       "1   Italy  D'Alceo is a drop dead gorgeous wine that ooze...      96  275.0   \n",
       "2  France  The great dominance of Cabernet Sauvignon in t...      91   40.0   \n",
       "3   Italy  The modest cherry, dark berry and black tea no...      81   15.0   \n",
       "4      US  Exceedingly light in color, scent and flavor, ...      83   25.0   \n",
       "\n",
       "     province          region_1                   variety  \\\n",
       "0  California     Central Coast                Pinot Noir   \n",
       "1     Tuscany           Toscana                 Red Blend   \n",
       "2    Bordeaux        Haut-Médoc  Bordeaux-style Red Blend   \n",
       "3     Tuscany  Chianti Classico                Sangiovese   \n",
       "4      Oregon      Rogue Valley                Pinot Noir   \n",
       "\n",
       "                  winery color  \n",
       "0        MacMurray Ranch   red  \n",
       "1  Castello dei Rampolla   red  \n",
       "2     Château Bernadotte   red  \n",
       "3                Valiano   red  \n",
       "4             Deer Creek   red  "
      ]
     },
     "execution_count": 18,
     "metadata": {},
     "output_type": "execute_result"
    }
   ],
   "source": [
    "df=df.drop_duplicates(keep=False)\n",
    "df.head(5)"
   ]
  },
  {
   "cell_type": "markdown",
   "metadata": {},
   "source": [
    "####  Объяснить, почему заполнили пропуски определённым <br> образом или почему не стали это делать."
   ]
  },
  {
   "cell_type": "markdown",
   "metadata": {},
   "source": [
    "- Массив данных состоит из 20 тыс строк и 10 колонок.\n",
    "- Столбцы designation и region_2 являются номинальными и были заполнены <br>\n",
    "на 70% и 40% соответственно. Ввиду отсутствия ценности для анализа были удалены полностью. \n",
    "- Добавленный признак color также является номинальным, был заполнен на 82%.  <br>\n",
    "В датасете были удалены строки признака color с незаполненными значениями.  <br>\n",
    "Удаление строк обусловлено необходимостью использования признака,  <br>\n",
    "при этом незаполненные значения не позволяли сделать полноценный анализ.  \n",
    "- Признак price является числовым вещественным и заполнен на 91%. <br>\n",
    "Незаполненность оставшивхся 9% данных не существенно. <br>\n",
    "Вследствие чего были удалены строки с незаполненными значениями цены.<br>\n",
    "- Дубликаты были удалены. <br>\n",
    "- Типы данных столбцов корректны, в их преобрзовании нет необходимости. <br>\n",
    "- После очистки пропущенных значений и удаления дубликатов осталось 13388 записей"
   ]
  },
  {
   "cell_type": "markdown",
   "metadata": {},
   "source": [
    "#### Посчитать средние цены для каждой страны."
   ]
  },
  {
   "cell_type": "markdown",
   "metadata": {},
   "source": [
    "Найдем среднюю цену для каждой страны."
   ]
  },
  {
   "cell_type": "code",
   "execution_count": 19,
   "metadata": {},
   "outputs": [
    {
     "data": {
      "text/html": [
       "<div>\n",
       "<style scoped>\n",
       "    .dataframe tbody tr th:only-of-type {\n",
       "        vertical-align: middle;\n",
       "    }\n",
       "\n",
       "    .dataframe tbody tr th {\n",
       "        vertical-align: top;\n",
       "    }\n",
       "\n",
       "    .dataframe thead th {\n",
       "        text-align: right;\n",
       "    }\n",
       "</style>\n",
       "<table border=\"1\" class=\"dataframe\">\n",
       "  <thead>\n",
       "    <tr style=\"text-align: right;\">\n",
       "      <th></th>\n",
       "      <th>Avg Price</th>\n",
       "    </tr>\n",
       "    <tr>\n",
       "      <th>country</th>\n",
       "      <th></th>\n",
       "    </tr>\n",
       "  </thead>\n",
       "  <tbody>\n",
       "    <tr>\n",
       "      <th>Turkey</th>\n",
       "      <td>55.333333</td>\n",
       "    </tr>\n",
       "    <tr>\n",
       "      <th>France</th>\n",
       "      <td>50.450770</td>\n",
       "    </tr>\n",
       "    <tr>\n",
       "      <th>US-France</th>\n",
       "      <td>50.000000</td>\n",
       "    </tr>\n",
       "    <tr>\n",
       "      <th>Italy</th>\n",
       "      <td>42.803704</td>\n",
       "    </tr>\n",
       "    <tr>\n",
       "      <th>Canada</th>\n",
       "      <td>39.588235</td>\n",
       "    </tr>\n",
       "    <tr>\n",
       "      <th>Germany</th>\n",
       "      <td>36.831579</td>\n",
       "    </tr>\n",
       "    <tr>\n",
       "      <th>Luxembourg</th>\n",
       "      <td>36.000000</td>\n",
       "    </tr>\n",
       "    <tr>\n",
       "      <th>Austria</th>\n",
       "      <td>34.416667</td>\n",
       "    </tr>\n",
       "    <tr>\n",
       "      <th>US</th>\n",
       "      <td>34.173657</td>\n",
       "    </tr>\n",
       "    <tr>\n",
       "      <th>Lebanon</th>\n",
       "      <td>33.333333</td>\n",
       "    </tr>\n",
       "    <tr>\n",
       "      <th>Australia</th>\n",
       "      <td>31.620172</td>\n",
       "    </tr>\n",
       "    <tr>\n",
       "      <th>Israel</th>\n",
       "      <td>30.378788</td>\n",
       "    </tr>\n",
       "    <tr>\n",
       "      <th>Spain</th>\n",
       "      <td>30.092421</td>\n",
       "    </tr>\n",
       "    <tr>\n",
       "      <th>Portugal</th>\n",
       "      <td>29.358916</td>\n",
       "    </tr>\n",
       "    <tr>\n",
       "      <th>Hungary</th>\n",
       "      <td>27.000000</td>\n",
       "    </tr>\n",
       "    <tr>\n",
       "      <th>Mexico</th>\n",
       "      <td>26.888889</td>\n",
       "    </tr>\n",
       "    <tr>\n",
       "      <th>New Zealand</th>\n",
       "      <td>24.566474</td>\n",
       "    </tr>\n",
       "    <tr>\n",
       "      <th>Slovenia</th>\n",
       "      <td>24.375000</td>\n",
       "    </tr>\n",
       "    <tr>\n",
       "      <th>Argentina</th>\n",
       "      <td>23.593284</td>\n",
       "    </tr>\n",
       "    <tr>\n",
       "      <th>Greece</th>\n",
       "      <td>23.040816</td>\n",
       "    </tr>\n",
       "    <tr>\n",
       "      <th>South Africa</th>\n",
       "      <td>22.264151</td>\n",
       "    </tr>\n",
       "    <tr>\n",
       "      <th>Croatia</th>\n",
       "      <td>21.166667</td>\n",
       "    </tr>\n",
       "    <tr>\n",
       "      <th>Uruguay</th>\n",
       "      <td>20.400000</td>\n",
       "    </tr>\n",
       "    <tr>\n",
       "      <th>Chile</th>\n",
       "      <td>19.698777</td>\n",
       "    </tr>\n",
       "    <tr>\n",
       "      <th>Brazil</th>\n",
       "      <td>19.500000</td>\n",
       "    </tr>\n",
       "    <tr>\n",
       "      <th>Switzerland</th>\n",
       "      <td>19.000000</td>\n",
       "    </tr>\n",
       "    <tr>\n",
       "      <th>Moldova</th>\n",
       "      <td>14.900000</td>\n",
       "    </tr>\n",
       "    <tr>\n",
       "      <th>Cyprus</th>\n",
       "      <td>14.000000</td>\n",
       "    </tr>\n",
       "    <tr>\n",
       "      <th>Romania</th>\n",
       "      <td>13.400000</td>\n",
       "    </tr>\n",
       "    <tr>\n",
       "      <th>Ukraine</th>\n",
       "      <td>13.000000</td>\n",
       "    </tr>\n",
       "    <tr>\n",
       "      <th>Georgia</th>\n",
       "      <td>11.500000</td>\n",
       "    </tr>\n",
       "    <tr>\n",
       "      <th>Bulgaria</th>\n",
       "      <td>11.428571</td>\n",
       "    </tr>\n",
       "  </tbody>\n",
       "</table>\n",
       "</div>"
      ],
      "text/plain": [
       "              Avg Price\n",
       "country                \n",
       "Turkey        55.333333\n",
       "France        50.450770\n",
       "US-France     50.000000\n",
       "Italy         42.803704\n",
       "Canada        39.588235\n",
       "Germany       36.831579\n",
       "Luxembourg    36.000000\n",
       "Austria       34.416667\n",
       "US            34.173657\n",
       "Lebanon       33.333333\n",
       "Australia     31.620172\n",
       "Israel        30.378788\n",
       "Spain         30.092421\n",
       "Portugal      29.358916\n",
       "Hungary       27.000000\n",
       "Mexico        26.888889\n",
       "New Zealand   24.566474\n",
       "Slovenia      24.375000\n",
       "Argentina     23.593284\n",
       "Greece        23.040816\n",
       "South Africa  22.264151\n",
       "Croatia       21.166667\n",
       "Uruguay       20.400000\n",
       "Chile         19.698777\n",
       "Brazil        19.500000\n",
       "Switzerland   19.000000\n",
       "Moldova       14.900000\n",
       "Cyprus        14.000000\n",
       "Romania       13.400000\n",
       "Ukraine       13.000000\n",
       "Georgia       11.500000\n",
       "Bulgaria      11.428571"
      ]
     },
     "execution_count": 19,
     "metadata": {},
     "output_type": "execute_result"
    }
   ],
   "source": [
    "mean_price_by_country = df.groupby('country').mean().sort_values(\n",
    "    by = ['price'],ascending = False)\n",
    "mean_price_by_country = pd.DataFrame({'Avg Price': mean_price_by_country.iloc[0:,1]})\n",
    "mean_price_by_country"
   ]
  },
  {
   "cell_type": "markdown",
   "metadata": {},
   "source": [
    "Самая высокая средняя цена вин Турции обьясняется небольшой выборкой, и наличием выбросов \"вправо\", что в  свою очередь связано с отсутствием развитого собственного производства доступных вин. Дальнейшее распределение средних цены на вина по странам коррелирует с уровнем социально - экономического развития: в более богатых странах средняя цена на вина выше, чем в восточно-европейских странах с низким уровнем доходов."
   ]
  },
  {
   "cell_type": "markdown",
   "metadata": {},
   "source": [
    "#### Внести новый столбец \"Континенты\""
   ]
  },
  {
   "cell_type": "markdown",
   "metadata": {},
   "source": [
    "Внесем столбец континент в набор данных:"
   ]
  },
  {
   "cell_type": "code",
   "execution_count": 20,
   "metadata": {},
   "outputs": [],
   "source": [
    "country_to_continent = {\n",
    "    'Italy':'Europe', 'Portugal':'Europe', 'US':'North America', 'Spain':'Europe',\n",
    "    'France':'Europe', 'Germany':'Europe', 'Argentina':'Latin America', \n",
    "    'Chile':'Latin America', 'Australia': 'Oceania', 'Austria': 'Europe', \n",
    "    'South Africa': 'Africa', 'New Zealand': 'Oceania', 'Israel': 'Asia', \n",
    "    'Hungary':'Europe', 'Greece':'Europe', 'Romania':'Europe', \n",
    "    'Mexico':'Latin America', 'Canada':'North America', 'Turkey': 'Asia',\n",
    "    'Czech Republic': 'Europe', 'Slovenia': 'Europe', 'Luxembourg': 'Europe',\n",
    "    'Croatia': 'Europe', 'Georgia':'Europe', 'Uruguay': 'Latin America',\n",
    "    'England': 'Europe', 'Lebanon': 'Asia', 'Serbia': 'Europe', \n",
    "    'Brazil': 'Latin America', 'Moldova': 'Europe', 'Morocco':'Africa',\n",
    "    'Peru':'Latin America', 'India':'Asia', 'Bulgaria':'Europe',\n",
    "    'Cyprus': 'Europe', 'Armenia':'Asia', 'Switzerland':'Europe',\n",
    "    'Bosnia and Herzegovina':'Europe', 'Ukraine':'Europe', 'Slovakia':'Europe', \n",
    "    'Macedonia':'Europe', 'China':'Asia', 'Egypt':'Africa'}\n"
   ]
  },
  {
   "cell_type": "code",
   "execution_count": 21,
   "metadata": {},
   "outputs": [
    {
     "data": {
      "text/html": [
       "<div>\n",
       "<style scoped>\n",
       "    .dataframe tbody tr th:only-of-type {\n",
       "        vertical-align: middle;\n",
       "    }\n",
       "\n",
       "    .dataframe tbody tr th {\n",
       "        vertical-align: top;\n",
       "    }\n",
       "\n",
       "    .dataframe thead th {\n",
       "        text-align: right;\n",
       "    }\n",
       "</style>\n",
       "<table border=\"1\" class=\"dataframe\">\n",
       "  <thead>\n",
       "    <tr style=\"text-align: right;\">\n",
       "      <th></th>\n",
       "      <th>country</th>\n",
       "      <th>description</th>\n",
       "      <th>points</th>\n",
       "      <th>price</th>\n",
       "      <th>province</th>\n",
       "      <th>region_1</th>\n",
       "      <th>variety</th>\n",
       "      <th>winery</th>\n",
       "      <th>color</th>\n",
       "      <th>continent</th>\n",
       "    </tr>\n",
       "  </thead>\n",
       "  <tbody>\n",
       "    <tr>\n",
       "      <th>0</th>\n",
       "      <td>US</td>\n",
       "      <td>With a delicate, silky mouthfeel and bright ac...</td>\n",
       "      <td>86</td>\n",
       "      <td>23.0</td>\n",
       "      <td>California</td>\n",
       "      <td>Central Coast</td>\n",
       "      <td>Pinot Noir</td>\n",
       "      <td>MacMurray Ranch</td>\n",
       "      <td>red</td>\n",
       "      <td>North America</td>\n",
       "    </tr>\n",
       "    <tr>\n",
       "      <th>1</th>\n",
       "      <td>Italy</td>\n",
       "      <td>D'Alceo is a drop dead gorgeous wine that ooze...</td>\n",
       "      <td>96</td>\n",
       "      <td>275.0</td>\n",
       "      <td>Tuscany</td>\n",
       "      <td>Toscana</td>\n",
       "      <td>Red Blend</td>\n",
       "      <td>Castello dei Rampolla</td>\n",
       "      <td>red</td>\n",
       "      <td>Europe</td>\n",
       "    </tr>\n",
       "    <tr>\n",
       "      <th>2</th>\n",
       "      <td>France</td>\n",
       "      <td>The great dominance of Cabernet Sauvignon in t...</td>\n",
       "      <td>91</td>\n",
       "      <td>40.0</td>\n",
       "      <td>Bordeaux</td>\n",
       "      <td>Haut-Médoc</td>\n",
       "      <td>Bordeaux-style Red Blend</td>\n",
       "      <td>Château Bernadotte</td>\n",
       "      <td>red</td>\n",
       "      <td>Europe</td>\n",
       "    </tr>\n",
       "    <tr>\n",
       "      <th>3</th>\n",
       "      <td>Italy</td>\n",
       "      <td>The modest cherry, dark berry and black tea no...</td>\n",
       "      <td>81</td>\n",
       "      <td>15.0</td>\n",
       "      <td>Tuscany</td>\n",
       "      <td>Chianti Classico</td>\n",
       "      <td>Sangiovese</td>\n",
       "      <td>Valiano</td>\n",
       "      <td>red</td>\n",
       "      <td>Europe</td>\n",
       "    </tr>\n",
       "    <tr>\n",
       "      <th>4</th>\n",
       "      <td>US</td>\n",
       "      <td>Exceedingly light in color, scent and flavor, ...</td>\n",
       "      <td>83</td>\n",
       "      <td>25.0</td>\n",
       "      <td>Oregon</td>\n",
       "      <td>Rogue Valley</td>\n",
       "      <td>Pinot Noir</td>\n",
       "      <td>Deer Creek</td>\n",
       "      <td>red</td>\n",
       "      <td>North America</td>\n",
       "    </tr>\n",
       "    <tr>\n",
       "      <th>5</th>\n",
       "      <td>Austria</td>\n",
       "      <td>This is always a major wine, and this vintage ...</td>\n",
       "      <td>96</td>\n",
       "      <td>89.0</td>\n",
       "      <td>Wachau</td>\n",
       "      <td>NaN</td>\n",
       "      <td>Riesling</td>\n",
       "      <td>F X Pichler</td>\n",
       "      <td>red</td>\n",
       "      <td>Europe</td>\n",
       "    </tr>\n",
       "    <tr>\n",
       "      <th>7</th>\n",
       "      <td>US</td>\n",
       "      <td>Addictive aromas of hot blackberry pie laced w...</td>\n",
       "      <td>93</td>\n",
       "      <td>40.0</td>\n",
       "      <td>California</td>\n",
       "      <td>Santa Barbara County</td>\n",
       "      <td>Syrah</td>\n",
       "      <td>Mulvane Wine Co.</td>\n",
       "      <td>red</td>\n",
       "      <td>North America</td>\n",
       "    </tr>\n",
       "  </tbody>\n",
       "</table>\n",
       "</div>"
      ],
      "text/plain": [
       "   country                                        description  points  price  \\\n",
       "0       US  With a delicate, silky mouthfeel and bright ac...      86   23.0   \n",
       "1    Italy  D'Alceo is a drop dead gorgeous wine that ooze...      96  275.0   \n",
       "2   France  The great dominance of Cabernet Sauvignon in t...      91   40.0   \n",
       "3    Italy  The modest cherry, dark berry and black tea no...      81   15.0   \n",
       "4       US  Exceedingly light in color, scent and flavor, ...      83   25.0   \n",
       "5  Austria  This is always a major wine, and this vintage ...      96   89.0   \n",
       "7       US  Addictive aromas of hot blackberry pie laced w...      93   40.0   \n",
       "\n",
       "     province              region_1                   variety  \\\n",
       "0  California         Central Coast                Pinot Noir   \n",
       "1     Tuscany               Toscana                 Red Blend   \n",
       "2    Bordeaux            Haut-Médoc  Bordeaux-style Red Blend   \n",
       "3     Tuscany      Chianti Classico                Sangiovese   \n",
       "4      Oregon          Rogue Valley                Pinot Noir   \n",
       "5      Wachau                   NaN                  Riesling   \n",
       "7  California  Santa Barbara County                     Syrah   \n",
       "\n",
       "                  winery color      continent  \n",
       "0        MacMurray Ranch   red  North America  \n",
       "1  Castello dei Rampolla   red         Europe  \n",
       "2     Château Bernadotte   red         Europe  \n",
       "3                Valiano   red         Europe  \n",
       "4             Deer Creek   red  North America  \n",
       "5            F X Pichler   red         Europe  \n",
       "7       Mulvane Wine Co.   red  North America  "
      ]
     },
     "execution_count": 21,
     "metadata": {},
     "output_type": "execute_result"
    }
   ],
   "source": [
    "df['continent'] =df['country'].map(country_to_continent)\n",
    "df.head(7)"
   ]
  },
  {
   "cell_type": "code",
   "execution_count": 22,
   "metadata": {},
   "outputs": [
    {
     "data": {
      "image/png": "[encoded data removed]",
      "text/plain": [
       "<Figure size 1080x720 with 1 Axes>"
      ]
     },
     "metadata": {
      "needs_background": "light"
     },
     "output_type": "display_data"
    }
   ],
   "source": [
    "df_country = df['continent'].value_counts().to_frame()\n",
    "df_country.reset_index(inplace=True)\n",
    "df_country.columns = ['continent','counts']\n",
    "fig, ax = plt.subplots(figsize=(15,10));\n",
    "sns.barplot(data = df_country, x='continent',y='counts',ax=ax).set_title(\n",
    "    'Количество образцов по каждому континенту');\n",
    "figsize = (10, 6)\n",
    "plt.xticks(rotation='vertical');"
   ]
  },
  {
   "cell_type": "markdown",
   "metadata": {},
   "source": [
    "<div align=\"center\"> Рисунок 1. - Распределение по континентам"
   ]
  },
  {
   "cell_type": "markdown",
   "metadata": {},
   "source": [
    "Из представленной инфографики можно сделать вывод, что наибольшее количество вин представлено продукцией североамериканского и европейского континентов. Данное обсоятельство объясняется тем, что исследование проводилось американским журналом."
   ]
  },
  {
   "cell_type": "markdown",
   "metadata": {},
   "source": [
    "## Шаг 3. Провести исследовательский анализ данных"
   ]
  },
  {
   "cell_type": "markdown",
   "metadata": {},
   "source": [
    "#### Определить, какие сорта лидируют по рейтингам. Найти популярные сорта по региону."
   ]
  },
  {
   "cell_type": "markdown",
   "metadata": {},
   "source": [
    "Рейтинг сортов вина по средним оценкам."
   ]
  },
  {
   "cell_type": "code",
   "execution_count": 23,
   "metadata": {},
   "outputs": [
    {
     "data": {
      "text/html": [
       "<div>\n",
       "<style scoped>\n",
       "    .dataframe tbody tr th:only-of-type {\n",
       "        vertical-align: middle;\n",
       "    }\n",
       "\n",
       "    .dataframe tbody tr th {\n",
       "        vertical-align: top;\n",
       "    }\n",
       "\n",
       "    .dataframe thead th {\n",
       "        text-align: right;\n",
       "    }\n",
       "</style>\n",
       "<table border=\"1\" class=\"dataframe\">\n",
       "  <thead>\n",
       "    <tr style=\"text-align: right;\">\n",
       "      <th></th>\n",
       "      <th>Avg Points</th>\n",
       "    </tr>\n",
       "    <tr>\n",
       "      <th>variety</th>\n",
       "      <th></th>\n",
       "    </tr>\n",
       "  </thead>\n",
       "  <tbody>\n",
       "    <tr>\n",
       "      <th>Nebbiolo</th>\n",
       "      <td>90.257669</td>\n",
       "    </tr>\n",
       "    <tr>\n",
       "      <th>Champagne Blend</th>\n",
       "      <td>89.657658</td>\n",
       "    </tr>\n",
       "    <tr>\n",
       "      <th>Grüner Veltliner</th>\n",
       "      <td>88.939655</td>\n",
       "    </tr>\n",
       "    <tr>\n",
       "      <th>Portuguese Red</th>\n",
       "      <td>88.837838</td>\n",
       "    </tr>\n",
       "    <tr>\n",
       "      <th>Bordeaux-style Red Blend</th>\n",
       "      <td>88.761993</td>\n",
       "    </tr>\n",
       "    <tr>\n",
       "      <th>Pinot Noir</th>\n",
       "      <td>88.760843</td>\n",
       "    </tr>\n",
       "    <tr>\n",
       "      <th>Port</th>\n",
       "      <td>88.729730</td>\n",
       "    </tr>\n",
       "    <tr>\n",
       "      <th>Corvina, Rondinella, Molinara</th>\n",
       "      <td>88.688742</td>\n",
       "    </tr>\n",
       "    <tr>\n",
       "      <th>Riesling</th>\n",
       "      <td>88.552381</td>\n",
       "    </tr>\n",
       "    <tr>\n",
       "      <th>Bordeaux-style White Blend</th>\n",
       "      <td>88.462963</td>\n",
       "    </tr>\n",
       "    <tr>\n",
       "      <th>Rhône-style Red Blend</th>\n",
       "      <td>88.402439</td>\n",
       "    </tr>\n",
       "    <tr>\n",
       "      <th>Shiraz</th>\n",
       "      <td>88.356522</td>\n",
       "    </tr>\n",
       "    <tr>\n",
       "      <th>Syrah</th>\n",
       "      <td>88.256135</td>\n",
       "    </tr>\n",
       "    <tr>\n",
       "      <th>Cabernet Sauvignon</th>\n",
       "      <td>88.095075</td>\n",
       "    </tr>\n",
       "    <tr>\n",
       "      <th>Red Blend</th>\n",
       "      <td>88.026753</td>\n",
       "    </tr>\n",
       "    <tr>\n",
       "      <th>Sangiovese</th>\n",
       "      <td>88.023188</td>\n",
       "    </tr>\n",
       "    <tr>\n",
       "      <th>Gewürztraminer</th>\n",
       "      <td>87.811321</td>\n",
       "    </tr>\n",
       "    <tr>\n",
       "      <th>Pinot Gris</th>\n",
       "      <td>87.753333</td>\n",
       "    </tr>\n",
       "    <tr>\n",
       "      <th>Chardonnay</th>\n",
       "      <td>87.681360</td>\n",
       "    </tr>\n",
       "    <tr>\n",
       "      <th>Sparkling Blend</th>\n",
       "      <td>87.495536</td>\n",
       "    </tr>\n",
       "    <tr>\n",
       "      <th>Viognier</th>\n",
       "      <td>87.408537</td>\n",
       "    </tr>\n",
       "    <tr>\n",
       "      <th>Malbec</th>\n",
       "      <td>87.403955</td>\n",
       "    </tr>\n",
       "    <tr>\n",
       "      <th>Barbera</th>\n",
       "      <td>87.330579</td>\n",
       "    </tr>\n",
       "    <tr>\n",
       "      <th>Petite Sirah</th>\n",
       "      <td>87.225806</td>\n",
       "    </tr>\n",
       "    <tr>\n",
       "      <th>Portuguese White</th>\n",
       "      <td>86.966292</td>\n",
       "    </tr>\n",
       "    <tr>\n",
       "      <th>Sauvignon Blanc</th>\n",
       "      <td>86.925926</td>\n",
       "    </tr>\n",
       "    <tr>\n",
       "      <th>White Blend</th>\n",
       "      <td>86.707641</td>\n",
       "    </tr>\n",
       "    <tr>\n",
       "      <th>Tempranillo</th>\n",
       "      <td>86.596610</td>\n",
       "    </tr>\n",
       "    <tr>\n",
       "      <th>Merlot</th>\n",
       "      <td>86.500876</td>\n",
       "    </tr>\n",
       "    <tr>\n",
       "      <th>Zinfandel</th>\n",
       "      <td>86.462039</td>\n",
       "    </tr>\n",
       "    <tr>\n",
       "      <th>Rosé</th>\n",
       "      <td>86.427711</td>\n",
       "    </tr>\n",
       "    <tr>\n",
       "      <th>Carmenère</th>\n",
       "      <td>86.402439</td>\n",
       "    </tr>\n",
       "  </tbody>\n",
       "</table>\n",
       "</div>"
      ],
      "text/plain": [
       "                               Avg Points\n",
       "variety                                  \n",
       "Nebbiolo                        90.257669\n",
       "Champagne Blend                 89.657658\n",
       "Grüner Veltliner                88.939655\n",
       "Portuguese Red                  88.837838\n",
       "Bordeaux-style Red Blend        88.761993\n",
       "Pinot Noir                      88.760843\n",
       "Port                            88.729730\n",
       "Corvina, Rondinella, Molinara   88.688742\n",
       "Riesling                        88.552381\n",
       "Bordeaux-style White Blend      88.462963\n",
       "Rhône-style Red Blend           88.402439\n",
       "Shiraz                          88.356522\n",
       "Syrah                           88.256135\n",
       "Cabernet Sauvignon              88.095075\n",
       "Red Blend                       88.026753\n",
       "Sangiovese                      88.023188\n",
       "Gewürztraminer                  87.811321\n",
       "Pinot Gris                      87.753333\n",
       "Chardonnay                      87.681360\n",
       "Sparkling Blend                 87.495536\n",
       "Viognier                        87.408537\n",
       "Malbec                          87.403955\n",
       "Barbera                         87.330579\n",
       "Petite Sirah                    87.225806\n",
       "Portuguese White                86.966292\n",
       "Sauvignon Blanc                 86.925926\n",
       "White Blend                     86.707641\n",
       "Tempranillo                     86.596610\n",
       "Merlot                          86.500876\n",
       "Zinfandel                       86.462039\n",
       "Rosé                            86.427711\n",
       "Carmenère                       86.402439"
      ]
     },
     "execution_count": 23,
     "metadata": {},
     "output_type": "execute_result"
    }
   ],
   "source": [
    "mean_points_variety = df.groupby('variety').mean().sort_values(\n",
    "    by = ['points'], ascending = False)\n",
    "mean_points_variety = pd.DataFrame({'Avg Points': mean_points_variety.iloc[:,0]})\n",
    "mean_points_variety\n",
    "#df.pivot_table(index ='variety', values='points',  aggfunc='mean').sort_values(\n",
    "#    by='points', ascending=False)"
   ]
  },
  {
   "cell_type": "markdown",
   "metadata": {},
   "source": [
    "Популярные сорта по региону."
   ]
  },
  {
   "cell_type": "code",
   "execution_count": 24,
   "metadata": {},
   "outputs": [
    {
     "data": {
      "text/html": [
       "<div>\n",
       "<style scoped>\n",
       "    .dataframe tbody tr th:only-of-type {\n",
       "        vertical-align: middle;\n",
       "    }\n",
       "\n",
       "    .dataframe tbody tr th {\n",
       "        vertical-align: top;\n",
       "    }\n",
       "\n",
       "    .dataframe thead th {\n",
       "        text-align: right;\n",
       "    }\n",
       "</style>\n",
       "<table border=\"1\" class=\"dataframe\">\n",
       "  <thead>\n",
       "    <tr style=\"text-align: right;\">\n",
       "      <th></th>\n",
       "      <th>variety</th>\n",
       "    </tr>\n",
       "    <tr>\n",
       "      <th>province</th>\n",
       "      <th></th>\n",
       "    </tr>\n",
       "  </thead>\n",
       "  <tbody>\n",
       "    <tr>\n",
       "      <th>Aconcagua Costa</th>\n",
       "      <td>Sauvignon Blanc</td>\n",
       "    </tr>\n",
       "    <tr>\n",
       "      <th>Aconcagua Valley</th>\n",
       "      <td>Cabernet Sauvignon</td>\n",
       "    </tr>\n",
       "    <tr>\n",
       "      <th>Aegean</th>\n",
       "      <td>Merlot</td>\n",
       "    </tr>\n",
       "    <tr>\n",
       "      <th>Alentejano</th>\n",
       "      <td>Portuguese Red</td>\n",
       "    </tr>\n",
       "    <tr>\n",
       "      <th>Alentejo</th>\n",
       "      <td>Portuguese Red</td>\n",
       "    </tr>\n",
       "    <tr>\n",
       "      <th>...</th>\n",
       "      <td>...</td>\n",
       "    </tr>\n",
       "    <tr>\n",
       "      <th>Wellington</th>\n",
       "      <td>Shiraz</td>\n",
       "    </tr>\n",
       "    <tr>\n",
       "      <th>Western Australia</th>\n",
       "      <td>Shiraz</td>\n",
       "    </tr>\n",
       "    <tr>\n",
       "      <th>Western Cape</th>\n",
       "      <td>Sauvignon Blanc</td>\n",
       "    </tr>\n",
       "    <tr>\n",
       "      <th>Zitsa</th>\n",
       "      <td>White Blend</td>\n",
       "    </tr>\n",
       "    <tr>\n",
       "      <th>Štajerska</th>\n",
       "      <td>[Pinot Noir, Red Blend]</td>\n",
       "    </tr>\n",
       "  </tbody>\n",
       "</table>\n",
       "<p>255 rows × 1 columns</p>\n",
       "</div>"
      ],
      "text/plain": [
       "                                   variety\n",
       "province                                  \n",
       "Aconcagua Costa            Sauvignon Blanc\n",
       "Aconcagua Valley        Cabernet Sauvignon\n",
       "Aegean                              Merlot\n",
       "Alentejano                  Portuguese Red\n",
       "Alentejo                    Portuguese Red\n",
       "...                                    ...\n",
       "Wellington                          Shiraz\n",
       "Western Australia                   Shiraz\n",
       "Western Cape               Sauvignon Blanc\n",
       "Zitsa                          White Blend\n",
       "Štajerska          [Pinot Noir, Red Blend]\n",
       "\n",
       "[255 rows x 1 columns]"
      ]
     },
     "execution_count": 24,
     "metadata": {},
     "output_type": "execute_result"
    }
   ],
   "source": [
    "wine_pop = df\n",
    "wine_pop.groupby('province').variety.agg(pd.Series.mode).to_frame()"
   ]
  },
  {
   "cell_type": "markdown",
   "metadata": {},
   "source": [
    "#### Выбрать сорта с наибольшими ценами. Для каждого региона найдите среднюю цену вина."
   ]
  },
  {
   "cell_type": "code",
   "execution_count": 25,
   "metadata": {},
   "outputs": [
    {
     "data": {
      "text/html": [
       "<div>\n",
       "<style scoped>\n",
       "    .dataframe tbody tr th:only-of-type {\n",
       "        vertical-align: middle;\n",
       "    }\n",
       "\n",
       "    .dataframe tbody tr th {\n",
       "        vertical-align: top;\n",
       "    }\n",
       "\n",
       "    .dataframe thead th {\n",
       "        text-align: right;\n",
       "    }\n",
       "</style>\n",
       "<table border=\"1\" class=\"dataframe\">\n",
       "  <thead>\n",
       "    <tr style=\"text-align: right;\">\n",
       "      <th></th>\n",
       "      <th>price</th>\n",
       "    </tr>\n",
       "    <tr>\n",
       "      <th>variety</th>\n",
       "      <th></th>\n",
       "    </tr>\n",
       "  </thead>\n",
       "  <tbody>\n",
       "    <tr>\n",
       "      <th>Bordeaux-style Red Blend</th>\n",
       "      <td>2300.0</td>\n",
       "    </tr>\n",
       "    <tr>\n",
       "      <th>Chardonnay</th>\n",
       "      <td>1400.0</td>\n",
       "    </tr>\n",
       "    <tr>\n",
       "      <th>Grüner Veltliner</th>\n",
       "      <td>1100.0</td>\n",
       "    </tr>\n",
       "    <tr>\n",
       "      <th>Tempranillo</th>\n",
       "      <td>599.0</td>\n",
       "    </tr>\n",
       "    <tr>\n",
       "      <th>Shiraz</th>\n",
       "      <td>550.0</td>\n",
       "    </tr>\n",
       "    <tr>\n",
       "      <th>Champagne Blend</th>\n",
       "      <td>505.0</td>\n",
       "    </tr>\n",
       "    <tr>\n",
       "      <th>Nebbiolo</th>\n",
       "      <td>495.0</td>\n",
       "    </tr>\n",
       "    <tr>\n",
       "      <th>Merlot</th>\n",
       "      <td>460.0</td>\n",
       "    </tr>\n",
       "    <tr>\n",
       "      <th>Syrah</th>\n",
       "      <td>450.0</td>\n",
       "    </tr>\n",
       "    <tr>\n",
       "      <th>Portuguese Red</th>\n",
       "      <td>426.0</td>\n",
       "    </tr>\n",
       "    <tr>\n",
       "      <th>Pinot Noir</th>\n",
       "      <td>400.0</td>\n",
       "    </tr>\n",
       "    <tr>\n",
       "      <th>Riesling</th>\n",
       "      <td>395.0</td>\n",
       "    </tr>\n",
       "    <tr>\n",
       "      <th>Red Blend</th>\n",
       "      <td>350.0</td>\n",
       "    </tr>\n",
       "    <tr>\n",
       "      <th>Cabernet Sauvignon</th>\n",
       "      <td>300.0</td>\n",
       "    </tr>\n",
       "    <tr>\n",
       "      <th>Port</th>\n",
       "      <td>290.0</td>\n",
       "    </tr>\n",
       "  </tbody>\n",
       "</table>\n",
       "</div>"
      ],
      "text/plain": [
       "                           price\n",
       "variety                         \n",
       "Bordeaux-style Red Blend  2300.0\n",
       "Chardonnay                1400.0\n",
       "Grüner Veltliner          1100.0\n",
       "Tempranillo                599.0\n",
       "Shiraz                     550.0\n",
       "Champagne Blend            505.0\n",
       "Nebbiolo                   495.0\n",
       "Merlot                     460.0\n",
       "Syrah                      450.0\n",
       "Portuguese Red             426.0\n",
       "Pinot Noir                 400.0\n",
       "Riesling                   395.0\n",
       "Red Blend                  350.0\n",
       "Cabernet Sauvignon         300.0\n",
       "Port                       290.0"
      ]
     },
     "execution_count": 25,
     "metadata": {},
     "output_type": "execute_result"
    }
   ],
   "source": [
    "df.pivot_table(index ='variety', values='price',  aggfunc='max').sort_values(\n",
    "    by='price', ascending=False).head(15)"
   ]
  },
  {
   "cell_type": "markdown",
   "metadata": {},
   "source": [
    "Самыми дорогими винами являются Bordeaux-style Red Blend, Chardonnay, Grüner Veltliner."
   ]
  },
  {
   "cell_type": "code",
   "execution_count": 26,
   "metadata": {},
   "outputs": [
    {
     "data": {
      "text/html": [
       "<div>\n",
       "<style scoped>\n",
       "    .dataframe tbody tr th:only-of-type {\n",
       "        vertical-align: middle;\n",
       "    }\n",
       "\n",
       "    .dataframe tbody tr th {\n",
       "        vertical-align: top;\n",
       "    }\n",
       "\n",
       "    .dataframe thead th {\n",
       "        text-align: right;\n",
       "    }\n",
       "</style>\n",
       "<table border=\"1\" class=\"dataframe\">\n",
       "  <thead>\n",
       "    <tr style=\"text-align: right;\">\n",
       "      <th></th>\n",
       "      <th>Avg Price</th>\n",
       "    </tr>\n",
       "    <tr>\n",
       "      <th>continent</th>\n",
       "      <th></th>\n",
       "    </tr>\n",
       "  </thead>\n",
       "  <tbody>\n",
       "    <tr>\n",
       "      <th>Europe</th>\n",
       "      <td>41.125000</td>\n",
       "    </tr>\n",
       "    <tr>\n",
       "      <th>North America</th>\n",
       "      <td>34.187509</td>\n",
       "    </tr>\n",
       "    <tr>\n",
       "      <th>Asia</th>\n",
       "      <td>31.541667</td>\n",
       "    </tr>\n",
       "    <tr>\n",
       "      <th>Oceania</th>\n",
       "      <td>28.614532</td>\n",
       "    </tr>\n",
       "    <tr>\n",
       "      <th>Africa</th>\n",
       "      <td>22.264151</td>\n",
       "    </tr>\n",
       "    <tr>\n",
       "      <th>Latin America</th>\n",
       "      <td>21.485904</td>\n",
       "    </tr>\n",
       "  </tbody>\n",
       "</table>\n",
       "</div>"
      ],
      "text/plain": [
       "               Avg Price\n",
       "continent               \n",
       "Europe         41.125000\n",
       "North America  34.187509\n",
       "Asia           31.541667\n",
       "Oceania        28.614532\n",
       "Africa         22.264151\n",
       "Latin America  21.485904"
      ]
     },
     "execution_count": 26,
     "metadata": {},
     "output_type": "execute_result"
    }
   ],
   "source": [
    "mean_price_continent = df.groupby('continent').mean().sort_values(\n",
    "    by = ['price'],ascending = False)\n",
    "mean_price_continent = pd.DataFrame({'Avg Price': mean_price_continent.iloc[:,1]})\n",
    "mean_price_continent"
   ]
  },
  {
   "cell_type": "markdown",
   "metadata": {},
   "source": [
    "Cредние цены на вина по регионам (континентам) коррелирует с уровнем социально - экономического развития: в более богатых регионах, таких как Европа и Северная Америка, средняя цена на вина выше, чем в регионах с низким уровнем доходов, таких, как Африка и Латинская Америка."
   ]
  },
  {
   "cell_type": "markdown",
   "metadata": {},
   "source": [
    "#### Определить, популярные сорта вина в бюджетном сегменте."
   ]
  },
  {
   "cell_type": "markdown",
   "metadata": {},
   "source": [
    "Для начала найдем параметры бюджетного сегмента. "
   ]
  },
  {
   "cell_type": "code",
   "execution_count": 27,
   "metadata": {},
   "outputs": [
    {
     "data": {
      "text/plain": [
       "Text(0.4, -0.1, 'Рисунок 2. - Популярность вин в зависимости от цены.')"
      ]
     },
     "execution_count": 27,
     "metadata": {},
     "output_type": "execute_result"
    },
    {
     "data": {
      "image/png": "[encoded data removed]",
      "text/plain": [
       "<Figure size 936x432 with 1 Axes>"
      ]
     },
     "metadata": {
      "needs_background": "light"
     },
     "output_type": "display_data"
    }
   ],
   "source": [
    "df.price.hist(figsize=(13,6), bins=500)\n",
    "a=[10,10]\n",
    "b=[0,2500]\n",
    "c=[50,50]\n",
    "d=[500,500]\n",
    "\n",
    "plt.xlim([0, 300])\n",
    "\n",
    "plt.plot(a, b, '-',linewidth=2)\n",
    "plt.plot(c, b, '-',linewidth=2)\n",
    "plt.plot(b, d, '-',linewidth=2)\n",
    "\n",
    "plt.title(\"Популярность вин в разных ценовых диапазонах\")\n",
    "plt.xlabel(\"Цена\")\n",
    "plt.ylabel(\"Количество\")\n",
    "plt.figtext(0.4, -0.1, \"Рисунок 2. - Популярность вин в зависимости от цены.\")"
   ]
  },
  {
   "cell_type": "markdown",
   "metadata": {},
   "source": [
    "Самое большое количество позиций находятся в пределах от 10 до 50 единиц цены"
   ]
  },
  {
   "cell_type": "markdown",
   "metadata": {},
   "source": [
    "Теперь определим какими винами представлена этот сегмент: "
   ]
  },
  {
   "cell_type": "code",
   "execution_count": 28,
   "metadata": {},
   "outputs": [
    {
     "name": "stdout",
     "output_type": "stream",
     "text": [
      "Бюджетный ценовой сегмент представлен следующими сортами вина:\n",
      "['Pinot Noir' 'Bordeaux-style Red Blend' 'Sangiovese' 'Syrah' 'Merlot'\n",
      " 'Chardonnay' 'Sauvignon Blanc' 'Shiraz' 'Rosé' 'Red Blend' 'Pinot Gris'\n",
      " 'Portuguese White' 'Cabernet Sauvignon' 'Riesling' 'Tempranillo'\n",
      " 'Barbera' 'Nebbiolo' 'Zinfandel' 'Sparkling Blend' 'Grüner Veltliner'\n",
      " 'Malbec' 'White Blend' 'Petite Sirah' 'Rhône-style Red Blend' 'Viognier'\n",
      " 'Port' 'Corvina, Rondinella, Molinara' 'Portuguese Red'\n",
      " 'Bordeaux-style White Blend' 'Gewürztraminer' 'Carmenère'\n",
      " 'Champagne Blend']\n"
     ]
    }
   ],
   "source": [
    "cheapwine=df.query('price>9 & price<49')\n",
    "print('Бюджетный ценовой сегмент представлен следующими сортами вина:', sep = \"/n\")\n",
    "print(cheapwine.variety.unique())"
   ]
  },
  {
   "cell_type": "markdown",
   "metadata": {},
   "source": [
    "и определим самые популярные:"
   ]
  },
  {
   "cell_type": "code",
   "execution_count": 29,
   "metadata": {},
   "outputs": [
    {
     "data": {
      "text/html": [
       "<div>\n",
       "<style scoped>\n",
       "    .dataframe tbody tr th:only-of-type {\n",
       "        vertical-align: middle;\n",
       "    }\n",
       "\n",
       "    .dataframe tbody tr th {\n",
       "        vertical-align: top;\n",
       "    }\n",
       "\n",
       "    .dataframe thead th {\n",
       "        text-align: right;\n",
       "    }\n",
       "</style>\n",
       "<table border=\"1\" class=\"dataframe\">\n",
       "  <thead>\n",
       "    <tr style=\"text-align: right;\">\n",
       "      <th></th>\n",
       "      <th>variety</th>\n",
       "    </tr>\n",
       "  </thead>\n",
       "  <tbody>\n",
       "    <tr>\n",
       "      <th>Chardonnay</th>\n",
       "      <td>1310</td>\n",
       "    </tr>\n",
       "    <tr>\n",
       "      <th>Pinot Noir</th>\n",
       "      <td>1117</td>\n",
       "    </tr>\n",
       "    <tr>\n",
       "      <th>Cabernet Sauvignon</th>\n",
       "      <td>955</td>\n",
       "    </tr>\n",
       "    <tr>\n",
       "      <th>Red Blend</th>\n",
       "      <td>845</td>\n",
       "    </tr>\n",
       "    <tr>\n",
       "      <th>Sauvignon Blanc</th>\n",
       "      <td>672</td>\n",
       "    </tr>\n",
       "  </tbody>\n",
       "</table>\n",
       "</div>"
      ],
      "text/plain": [
       "                    variety\n",
       "Chardonnay             1310\n",
       "Pinot Noir             1117\n",
       "Cabernet Sauvignon      955\n",
       "Red Blend               845\n",
       "Sauvignon Blanc         672"
      ]
     },
     "execution_count": 29,
     "metadata": {},
     "output_type": "execute_result"
    }
   ],
   "source": [
    "cheapwine.variety.value_counts().head(5).to_frame() "
   ]
  },
  {
   "cell_type": "markdown",
   "metadata": {},
   "source": [
    "#### Определить, какие сорта вина лидируют по рейтингам. "
   ]
  },
  {
   "cell_type": "code",
   "execution_count": 30,
   "metadata": {},
   "outputs": [
    {
     "data": {
      "text/plain": [
       "Text(0.4, -0.3, 'Рисунок 3. - Максимальный рейтинг по сорту вина ')"
      ]
     },
     "execution_count": 30,
     "metadata": {},
     "output_type": "execute_result"
    },
    {
     "data": {
      "image/png": "[encoded data removed]",
      "text/plain": [
       "<Figure size 1152x432 with 1 Axes>"
      ]
     },
     "metadata": {
      "needs_background": "light"
     },
     "output_type": "display_data"
    }
   ],
   "source": [
    "dfpointmax = df.groupby('variety')['points'].max().sort_values(\n",
    "    ascending=False).head(30)\n",
    "dfpointmax.plot (kind = 'bar', stacked=True, color = 'green', \n",
    "                 figsize = (16,6))\n",
    "plt.ylim([85,100])\n",
    "plt.title('Максимальный рейтинг по сорту вина')\n",
    "plt.ylabel('Рейтинг')\n",
    "plt.figtext(0.4, -0.3, \"Рисунок 3. - Максимальный рейтинг по сорту вина \")\n"
   ]
  },
  {
   "cell_type": "code",
   "execution_count": 31,
   "metadata": {},
   "outputs": [
    {
     "name": "stdout",
     "output_type": "stream",
     "text": [
      "Наилучшие рейтинги получают вина сортов:['Chardonnay', 'Merlot']\n"
     ]
    }
   ],
   "source": [
    "r = df[df.points == df.points.max()]\n",
    "print(f\"Наилучшие рейтинги получают вина сортов:{r.variety.tolist()}\")"
   ]
  },
  {
   "cell_type": "markdown",
   "metadata": {},
   "source": [
    "#### Построить график «ящик с усами» по рейтингам в разбивке по странам, по сортам вина."
   ]
  },
  {
   "cell_type": "code",
   "execution_count": 32,
   "metadata": {},
   "outputs": [
    {
     "data": {
      "text/plain": [
       "Text(0.4, 0.0, 'Рисунок 4. - Зависимость рейтинга по топ 10 популярным странам')"
      ]
     },
     "execution_count": 32,
     "metadata": {},
     "output_type": "execute_result"
    },
    {
     "data": {
      "image/png": "[encoded data removed]",
      "text/plain": [
       "<Figure size 1152x864 with 1 Axes>"
      ]
     },
     "metadata": {
      "needs_background": "light"
     },
     "output_type": "display_data"
    }
   ],
   "source": [
    "fig = plt.figure(figsize=(16,12))\n",
    "top_wines_countries = df.country.value_counts().head(10)\n",
    "points_top_wines_countries = df[df.country.isin(top_wines_countries.index)]\n",
    "x = points_top_wines_countries.country\n",
    "y = points_top_wines_countries.points\n",
    "sns.boxplot(x,y)\n",
    "plt.xlabel('Страна', fontsize=18)\n",
    "plt.ylabel('Рейтинг', fontsize=18)\n",
    "plt.title('Распределения рейтинга вина по топ 10 странам',fontsize=18)\n",
    "plt.figtext(0.4, 0., \"Рисунок 4. - Зависимость рейтинга по топ 10 популярным странам\" )"
   ]
  },
  {
   "cell_type": "code",
   "execution_count": 33,
   "metadata": {},
   "outputs": [
    {
     "data": {
      "text/plain": [
       "Text(0.4, 0.0, 'Рисунок 5. - Зависимость рейтинга от топ 10 популярных сортов винограда')"
      ]
     },
     "execution_count": 33,
     "metadata": {},
     "output_type": "execute_result"
    },
    {
     "data": {
      "image/png": "[encoded data removed]",
      "text/plain": [
       "<Figure size 1152x864 with 1 Axes>"
      ]
     },
     "metadata": {
      "needs_background": "light"
     },
     "output_type": "display_data"
    }
   ],
   "source": [
    "fig = plt.figure(figsize=(16,12))\n",
    "top_reviewed_wines = df.variety.value_counts().head(10)\n",
    "points_top_reviewed_wines = df[df.variety.isin(top_reviewed_wines.index)]\n",
    "x = points_top_reviewed_wines.variety\n",
    "y = points_top_reviewed_wines.points\n",
    "sns.boxplot(x,y)\n",
    "plt.xlabel('Сорт винограда', fontsize=18)\n",
    "plt.ylabel('Рейтинг', fontsize=18)\n",
    "plt.title('Распределения рейтинга вина по топ 10 сортов винограда',fontsize=18)\n",
    "plt.figtext(0.4, 0., \"Рисунок 5. - Зависимость рейтинга от топ 10 популярных сортов винограда\" )"
   ]
  },
  {
   "cell_type": "markdown",
   "metadata": {},
   "source": [
    "В основном средние оценки находятся в диапазоне 85 - 90 баллов.<br>\n",
    "Среди представленных вин высокие средние рейтинги у сортов Bordeaux-style, Red Blend и Pinot Noir."
   ]
  },
  {
   "cell_type": "markdown",
   "metadata": {},
   "source": [
    "#### Выявить закономерность влияния на цену цвета и рейтинга. Построить диаграмму рассеяния и посчитать корреляцию. "
   ]
  },
  {
   "cell_type": "markdown",
   "metadata": {},
   "source": [
    "Cначала построим графики распределения числовых признаков: рейтингов и цен."
   ]
  },
  {
   "cell_type": "code",
   "execution_count": 34,
   "metadata": {},
   "outputs": [
    {
     "data": {
      "text/plain": [
       "Text(0.4, 0.0, 'Рисунок 6. - Распределение средних рейтингов и средних цен')"
      ]
     },
     "execution_count": 34,
     "metadata": {},
     "output_type": "execute_result"
    },
    {
     "data": {
      "image/png": "[encoded data removed]",
      "text/plain": [
       "<Figure size 1080x576 with 2 Axes>"
      ]
     },
     "metadata": {
      "needs_background": "light"
     },
     "output_type": "display_data"
    }
   ],
   "source": [
    "fig, ax = plt.subplots(ncols=2, figsize=(15,8))\n",
    "\n",
    "df.points.plot(kind='box', ax=ax[0])\n",
    "df.price.plot(kind='box', ax=ax[1])\n",
    "sns.set(font_scale = 0.9)\n",
    "plt.figtext(0.4, 0., \"Рисунок 6. - Распределение средних рейтингов и средних цен\" )"
   ]
  },
  {
   "cell_type": "markdown",
   "metadata": {},
   "source": [
    "Распределение рейтингов близко к нормальному. Выбросы \"справа\" не значительны. <br>\n",
    "(при построении горизонтального графика распределения).<br>\n",
    "В цене присуствуют \"правосторонние\" выбросы <br>\n",
    "Данные выбросы необходимо удалить."
   ]
  },
  {
   "cell_type": "markdown",
   "metadata": {},
   "source": [
    "Так как выборка несимметрична, необходимо убрать записи с ценами за пределами диапазона:<br>\n",
    "Q1-1IQR, Q3+1IQR, <br>\n",
    "где IQR = Q3-Q1"
   ]
  },
  {
   "cell_type": "code",
   "execution_count": 35,
   "metadata": {},
   "outputs": [
    {
     "data": {
      "text/plain": [
       "count    13388.000000\n",
       "mean        34.804228\n",
       "std         42.989997\n",
       "min          5.000000\n",
       "25%         16.000000\n",
       "50%         25.000000\n",
       "75%         41.000000\n",
       "max       2300.000000\n",
       "Name: price, dtype: float64"
      ]
     },
     "execution_count": 35,
     "metadata": {},
     "output_type": "execute_result"
    }
   ],
   "source": [
    "df['price'].describe()"
   ]
  },
  {
   "cell_type": "markdown",
   "metadata": {},
   "source": [
    "Определим нижнюю границу."
   ]
  },
  {
   "cell_type": "code",
   "execution_count": 36,
   "metadata": {},
   "outputs": [
    {
     "data": {
      "text/plain": [
       "-9"
      ]
     },
     "execution_count": 36,
     "metadata": {},
     "output_type": "execute_result"
    }
   ],
   "source": [
    "16 - 1 * (41-16)"
   ]
  },
  {
   "cell_type": "markdown",
   "metadata": {},
   "source": [
    "Нижняя граница имеет отрицательное значение, значит \"снизу\" массив не будет ограничиваться."
   ]
  },
  {
   "cell_type": "markdown",
   "metadata": {},
   "source": [
    "Определим вехнюю границу."
   ]
  },
  {
   "cell_type": "code",
   "execution_count": 37,
   "metadata": {},
   "outputs": [
    {
     "data": {
      "text/plain": [
       "66"
      ]
     },
     "execution_count": 37,
     "metadata": {},
     "output_type": "execute_result"
    }
   ],
   "source": [
    "41+1*(41-16)"
   ]
  },
  {
   "cell_type": "markdown",
   "metadata": {},
   "source": [
    "66 - верхняя граница диапазона."
   ]
  },
  {
   "cell_type": "code",
   "execution_count": 38,
   "metadata": {},
   "outputs": [],
   "source": [
    "df_pr_norm = df[(df['price']<=66)]"
   ]
  },
  {
   "cell_type": "code",
   "execution_count": 39,
   "metadata": {},
   "outputs": [
    {
     "data": {
      "text/plain": [
       "Text(0.5, 0, 'цена')"
      ]
     },
     "execution_count": 39,
     "metadata": {},
     "output_type": "execute_result"
    },
    {
     "data": {
      "image/png": "[encoded data removed]",
      "text/plain": [
       "<Figure size 576x432 with 1 Axes>"
      ]
     },
     "metadata": {},
     "output_type": "display_data"
    }
   ],
   "source": [
    "df_pr_norm.boxplot('price', figsize=(8,6)) \n",
    "plt.xlabel('цена')"
   ]
  },
  {
   "cell_type": "markdown",
   "metadata": {},
   "source": [
    "<div align=\"center\"> Рисунок 7. - Распределение цен после удаления выбросов"
   ]
  },
  {
   "cell_type": "markdown",
   "metadata": {},
   "source": [
    "График \"ящик с усами\" демонстрирует отсутствие выбросов за пределами \"усов\"."
   ]
  },
  {
   "cell_type": "markdown",
   "metadata": {},
   "source": [
    "Построим диаграмму рассеяния."
   ]
  },
  {
   "cell_type": "code",
   "execution_count": 40,
   "metadata": {},
   "outputs": [
    {
     "data": {
      "text/plain": [
       "<AxesSubplot:xlabel='color', ylabel='Цена'>"
      ]
     },
     "execution_count": 40,
     "metadata": {},
     "output_type": "execute_result"
    },
    {
     "data": {
      "image/png": "[encoded data removed]",
      "text/plain": [
       "<Figure size 864x432 with 1 Axes>"
      ]
     },
     "metadata": {},
     "output_type": "display_data"
    }
   ],
   "source": [
    "df_color=df_pr_norm.groupby('color')['price'].median().sort_values(ascending=True)\n",
    "\n",
    "fig, ax = plt.subplots(figsize=(12, 6))\n",
    "plt.ylabel('Цена')\n",
    "plt.title=('Распределение цены в зависимости от цвета вина')\n",
    "df_color.plot(kind='bar', stacked=True)"
   ]
  },
  {
   "cell_type": "markdown",
   "metadata": {},
   "source": [
    "<div align=\"center\"> Рисунок 8. - Гистограмма распределения цены в зависимости от цвета"
   ]
  },
  {
   "cell_type": "code",
   "execution_count": 41,
   "metadata": {},
   "outputs": [
    {
     "data": {
      "text/plain": [
       "Text(0, 0.5, 'Рейтинг')"
      ]
     },
     "execution_count": 41,
     "metadata": {},
     "output_type": "execute_result"
    },
    {
     "data": {
      "image/png": "[encoded data removed]",
      "text/plain": [
       "<Figure size 936x360 with 1 Axes>"
      ]
     },
     "metadata": {},
     "output_type": "display_data"
    }
   ],
   "source": [
    "fig, ax = plt.subplots(figsize=(13,5))\n",
    "plt.scatter(df_pr_norm['price'], df_pr_norm['points'], \n",
    "            facecolors=\"green\", edgecolors=\"black\", alpha=.1)\n",
    "plt.xlim(0, 70)\n",
    "plt.xlabel('Цена')\n",
    "plt.ylabel('Рейтинг')"
   ]
  },
  {
   "cell_type": "markdown",
   "metadata": {},
   "source": [
    "<div align=\"center\"> Рисунок 9. - График зависимости рейтинга от цены"
   ]
  },
  {
   "cell_type": "markdown",
   "metadata": {},
   "source": [
    "Выбросов среди дешевых вин нет. Чем больше цена, тем выше рейтинг вина."
   ]
  },
  {
   "cell_type": "markdown",
   "metadata": {},
   "source": [
    "Определим корреляцию между переменными с помощью коэффициента корреляции Пирсона по нормализованному по цене массиву данных."
   ]
  },
  {
   "cell_type": "code",
   "execution_count": 42,
   "metadata": {},
   "outputs": [
    {
     "data": {
      "text/html": [
       "<div>\n",
       "<style scoped>\n",
       "    .dataframe tbody tr th:only-of-type {\n",
       "        vertical-align: middle;\n",
       "    }\n",
       "\n",
       "    .dataframe tbody tr th {\n",
       "        vertical-align: top;\n",
       "    }\n",
       "\n",
       "    .dataframe thead th {\n",
       "        text-align: right;\n",
       "    }\n",
       "</style>\n",
       "<table border=\"1\" class=\"dataframe\">\n",
       "  <thead>\n",
       "    <tr style=\"text-align: right;\">\n",
       "      <th></th>\n",
       "      <th>points</th>\n",
       "      <th>price</th>\n",
       "    </tr>\n",
       "  </thead>\n",
       "  <tbody>\n",
       "    <tr>\n",
       "      <th>points</th>\n",
       "      <td>1.000000</td>\n",
       "      <td>0.533085</td>\n",
       "    </tr>\n",
       "    <tr>\n",
       "      <th>price</th>\n",
       "      <td>0.533085</td>\n",
       "      <td>1.000000</td>\n",
       "    </tr>\n",
       "  </tbody>\n",
       "</table>\n",
       "</div>"
      ],
      "text/plain": [
       "          points     price\n",
       "points  1.000000  0.533085\n",
       "price   0.533085  1.000000"
      ]
     },
     "execution_count": 42,
     "metadata": {},
     "output_type": "execute_result"
    }
   ],
   "source": [
    "df_pr_norm.corr(method='pearson')"
   ]
  },
  {
   "cell_type": "markdown",
   "metadata": {},
   "source": [
    "Построим тепловую карту для коррелированных атрибутов: цены и рейтинга "
   ]
  },
  {
   "cell_type": "code",
   "execution_count": 43,
   "metadata": {},
   "outputs": [
    {
     "name": "stdout",
     "output_type": "stream",
     "text": [
      "Index(['points', 'price'], dtype='object')\n"
     ]
    },
    {
     "data": {
      "image/png": "[encoded data removed]",
      "text/plain": [
       "<Figure size 360x360 with 2 Axes>"
      ]
     },
     "metadata": {},
     "output_type": "display_data"
    }
   ],
   "source": [
    "corrValues = df_pr_norm.corr(method='pearson')\n",
    "\n",
    "topCorrFeaturesForPoints = corrValues.index[abs(corrValues['points']) >= 0.2]\n",
    "print(topCorrFeaturesForPoints)\n",
    "\n",
    "plt.figure(figsize=(5,5))\n",
    "ax = sns.heatmap(df_pr_norm[topCorrFeaturesForPoints].corr(), annot=True, cmap=\"RdYlGn\")"
   ]
  },
  {
   "cell_type": "markdown",
   "metadata": {},
   "source": [
    "<div align=\"center\"> Рисунок 10. - Тепловая карта корреляции цены и рейтинга"
   ]
  },
  {
   "cell_type": "markdown",
   "metadata": {},
   "source": [
    "Из тепловой карты следует, что существует средняя линейная корреляция(=0,533085) между «рейтингом» и «ценой»."
   ]
  },
  {
   "cell_type": "markdown",
   "metadata": {},
   "source": [
    "## Шаг 4. Портрет пользователя</a>"
   ]
  },
  {
   "cell_type": "markdown",
   "metadata": {},
   "source": [
    "**Определить для пользователя каждого континента**  -Самые популярные сорта (топ-5)."
   ]
  },
  {
   "cell_type": "code",
   "execution_count": 44,
   "metadata": {},
   "outputs": [
    {
     "data": {
      "text/html": [
       "<div>\n",
       "<style scoped>\n",
       "    .dataframe tbody tr th:only-of-type {\n",
       "        vertical-align: middle;\n",
       "    }\n",
       "\n",
       "    .dataframe tbody tr th {\n",
       "        vertical-align: top;\n",
       "    }\n",
       "\n",
       "    .dataframe thead th {\n",
       "        text-align: right;\n",
       "    }\n",
       "</style>\n",
       "<table border=\"1\" class=\"dataframe\">\n",
       "  <thead>\n",
       "    <tr style=\"text-align: right;\">\n",
       "      <th></th>\n",
       "      <th></th>\n",
       "      <th>variety</th>\n",
       "    </tr>\n",
       "    <tr>\n",
       "      <th>continent</th>\n",
       "      <th></th>\n",
       "      <th></th>\n",
       "    </tr>\n",
       "  </thead>\n",
       "  <tbody>\n",
       "    <tr>\n",
       "      <th rowspan=\"5\" valign=\"top\">Africa</th>\n",
       "      <th>Sauvignon Blanc</th>\n",
       "      <td>41</td>\n",
       "    </tr>\n",
       "    <tr>\n",
       "      <th>Chardonnay</th>\n",
       "      <td>39</td>\n",
       "    </tr>\n",
       "    <tr>\n",
       "      <th>Shiraz</th>\n",
       "      <td>34</td>\n",
       "    </tr>\n",
       "    <tr>\n",
       "      <th>Cabernet Sauvignon</th>\n",
       "      <td>25</td>\n",
       "    </tr>\n",
       "    <tr>\n",
       "      <th>Red Blend</th>\n",
       "      <td>18</td>\n",
       "    </tr>\n",
       "    <tr>\n",
       "      <th rowspan=\"5\" valign=\"top\">Asia</th>\n",
       "      <th>Cabernet Sauvignon</th>\n",
       "      <td>19</td>\n",
       "    </tr>\n",
       "    <tr>\n",
       "      <th>Chardonnay</th>\n",
       "      <td>12</td>\n",
       "    </tr>\n",
       "    <tr>\n",
       "      <th>Red Blend</th>\n",
       "      <td>9</td>\n",
       "    </tr>\n",
       "    <tr>\n",
       "      <th>Bordeaux-style Red Blend</th>\n",
       "      <td>6</td>\n",
       "    </tr>\n",
       "    <tr>\n",
       "      <th>Merlot</th>\n",
       "      <td>5</td>\n",
       "    </tr>\n",
       "    <tr>\n",
       "      <th rowspan=\"5\" valign=\"top\">Europe</th>\n",
       "      <th>Red Blend</th>\n",
       "      <td>548</td>\n",
       "    </tr>\n",
       "    <tr>\n",
       "      <th>Riesling</th>\n",
       "      <td>386</td>\n",
       "    </tr>\n",
       "    <tr>\n",
       "      <th>Chardonnay</th>\n",
       "      <td>352</td>\n",
       "    </tr>\n",
       "    <tr>\n",
       "      <th>Sangiovese</th>\n",
       "      <td>279</td>\n",
       "    </tr>\n",
       "    <tr>\n",
       "      <th>Bordeaux-style Red Blend</th>\n",
       "      <td>251</td>\n",
       "    </tr>\n",
       "    <tr>\n",
       "      <th rowspan=\"5\" valign=\"top\">Latin America</th>\n",
       "      <th>Malbec</th>\n",
       "      <td>263</td>\n",
       "    </tr>\n",
       "    <tr>\n",
       "      <th>Cabernet Sauvignon</th>\n",
       "      <td>247</td>\n",
       "    </tr>\n",
       "    <tr>\n",
       "      <th>Chardonnay</th>\n",
       "      <td>124</td>\n",
       "    </tr>\n",
       "    <tr>\n",
       "      <th>Sauvignon Blanc</th>\n",
       "      <td>106</td>\n",
       "    </tr>\n",
       "    <tr>\n",
       "      <th>Red Blend</th>\n",
       "      <td>106</td>\n",
       "    </tr>\n",
       "    <tr>\n",
       "      <th rowspan=\"5\" valign=\"top\">North America</th>\n",
       "      <th>Pinot Noir</th>\n",
       "      <td>1244</td>\n",
       "    </tr>\n",
       "    <tr>\n",
       "      <th>Cabernet Sauvignon</th>\n",
       "      <td>1055</td>\n",
       "    </tr>\n",
       "    <tr>\n",
       "      <th>Chardonnay</th>\n",
       "      <td>932</td>\n",
       "    </tr>\n",
       "    <tr>\n",
       "      <th>Syrah</th>\n",
       "      <td>469</td>\n",
       "    </tr>\n",
       "    <tr>\n",
       "      <th>Zinfandel</th>\n",
       "      <td>459</td>\n",
       "    </tr>\n",
       "    <tr>\n",
       "      <th rowspan=\"5\" valign=\"top\">Oceania</th>\n",
       "      <th>Shiraz</th>\n",
       "      <td>164</td>\n",
       "    </tr>\n",
       "    <tr>\n",
       "      <th>Sauvignon Blanc</th>\n",
       "      <td>135</td>\n",
       "    </tr>\n",
       "    <tr>\n",
       "      <th>Chardonnay</th>\n",
       "      <td>129</td>\n",
       "    </tr>\n",
       "    <tr>\n",
       "      <th>Pinot Noir</th>\n",
       "      <td>119</td>\n",
       "    </tr>\n",
       "    <tr>\n",
       "      <th>Cabernet Sauvignon</th>\n",
       "      <td>69</td>\n",
       "    </tr>\n",
       "  </tbody>\n",
       "</table>\n",
       "</div>"
      ],
      "text/plain": [
       "                                        variety\n",
       "continent                                      \n",
       "Africa        Sauvignon Blanc                41\n",
       "              Chardonnay                     39\n",
       "              Shiraz                         34\n",
       "              Cabernet Sauvignon             25\n",
       "              Red Blend                      18\n",
       "Asia          Cabernet Sauvignon             19\n",
       "              Chardonnay                     12\n",
       "              Red Blend                       9\n",
       "              Bordeaux-style Red Blend        6\n",
       "              Merlot                          5\n",
       "Europe        Red Blend                     548\n",
       "              Riesling                      386\n",
       "              Chardonnay                    352\n",
       "              Sangiovese                    279\n",
       "              Bordeaux-style Red Blend      251\n",
       "Latin America Malbec                        263\n",
       "              Cabernet Sauvignon            247\n",
       "              Chardonnay                    124\n",
       "              Sauvignon Blanc               106\n",
       "              Red Blend                     106\n",
       "North America Pinot Noir                   1244\n",
       "              Cabernet Sauvignon           1055\n",
       "              Chardonnay                    932\n",
       "              Syrah                         469\n",
       "              Zinfandel                     459\n",
       "Oceania       Shiraz                        164\n",
       "              Sauvignon Blanc               135\n",
       "              Chardonnay                    129\n",
       "              Pinot Noir                    119\n",
       "              Cabernet Sauvignon             69"
      ]
     },
     "execution_count": 44,
     "metadata": {},
     "output_type": "execute_result"
    }
   ],
   "source": [
    "df.groupby('continent').variety.apply(\n",
    "    lambda x: x.value_counts().nlargest(5)).to_frame() "
   ]
  },
  {
   "cell_type": "markdown",
   "metadata": {},
   "source": [
    " "
   ]
  },
  {
   "cell_type": "markdown",
   "metadata": {},
   "source": [
    "* Влияет ли рейтинг на цены по регионам?"
   ]
  },
  {
   "cell_type": "markdown",
   "metadata": {},
   "source": [
    "Выявим взаимосвязь рейтинга и цены по регионам, построив 6 графиков зависимости рейтинга и цены по нормализированному массиву по цене."
   ]
  },
  {
   "cell_type": "code",
   "execution_count": 45,
   "metadata": {},
   "outputs": [
    {
     "data": {
      "image/png": "[encoded data removed]",
      "text/plain": [
       "<Figure size 1080x1008 with 6 Axes>"
      ]
     },
     "metadata": {},
     "output_type": "display_data"
    }
   ],
   "source": [
    "fig, axes = plt.subplots(nrows=2, ncols=3, figsize=(15,14))\n",
    "\n",
    "axes = axes.ravel()\n",
    "dfg = df_pr_norm.groupby('continent')\n",
    "for (group, data), ax in zip(dfg, axes):\n",
    "    data.plot(kind='scatter', x='points', y='price', ax=ax, \n",
    "              title=group, legend=False, alpha=.2, color = 'red')  \n",
    "sns.set(font_scale = 1.0)"
   ]
  },
  {
   "cell_type": "markdown",
   "metadata": {},
   "source": [
    "<div align=\"center\"> Рисунок 11. - График зависимости цены от рейтинга по континентам"
   ]
  },
  {
   "cell_type": "markdown",
   "metadata": {},
   "source": [
    "- В Европе и Северной Америке наблюдается большое влияние рейтинга на цену, что обусловлено готовностью покупателей платить большую цену за высокий рейтинг вина.\n",
    "- В Океани и Латинской Америке связь выражена незначительно.\n",
    "- В Африке корреляция выражена минимально.\n",
    "- В Азии связь отстутствует."
   ]
  },
  {
   "cell_type": "markdown",
   "metadata": {},
   "source": [
    "## Шаг 5. Провести исследование статистических показателей"
   ]
  },
  {
   "cell_type": "markdown",
   "metadata": {},
   "source": [
    "#### Выполнить подсчет среднего количества, дисперсии и стандартного отклонения для цен на продукт различных регионов (континентов). Построить гистограммы. Описать распределения. "
   ]
  },
  {
   "cell_type": "markdown",
   "metadata": {},
   "source": [
    "Выполним подсчет среднего количества, дисперсии и стандартного отклонения для цен на продукт различных регионов (континентов). "
   ]
  },
  {
   "cell_type": "code",
   "execution_count": 46,
   "metadata": {},
   "outputs": [
    {
     "data": {
      "text/html": [
       "<div>\n",
       "<style scoped>\n",
       "    .dataframe tbody tr th:only-of-type {\n",
       "        vertical-align: middle;\n",
       "    }\n",
       "\n",
       "    .dataframe tbody tr th {\n",
       "        vertical-align: top;\n",
       "    }\n",
       "\n",
       "    .dataframe thead th {\n",
       "        text-align: right;\n",
       "    }\n",
       "</style>\n",
       "<table border=\"1\" class=\"dataframe\">\n",
       "  <thead>\n",
       "    <tr style=\"text-align: right;\">\n",
       "      <th></th>\n",
       "      <th>mean</th>\n",
       "      <th>count</th>\n",
       "      <th>var</th>\n",
       "      <th>std</th>\n",
       "    </tr>\n",
       "    <tr>\n",
       "      <th>continent</th>\n",
       "      <th></th>\n",
       "      <th></th>\n",
       "      <th></th>\n",
       "      <th></th>\n",
       "    </tr>\n",
       "  </thead>\n",
       "  <tbody>\n",
       "    <tr>\n",
       "      <th>Africa</th>\n",
       "      <td>22.264151</td>\n",
       "      <td>212</td>\n",
       "      <td>198.678709</td>\n",
       "      <td>14.095344</td>\n",
       "    </tr>\n",
       "    <tr>\n",
       "      <th>Asia</th>\n",
       "      <td>31.541667</td>\n",
       "      <td>72</td>\n",
       "      <td>367.941901</td>\n",
       "      <td>19.181812</td>\n",
       "    </tr>\n",
       "    <tr>\n",
       "      <th>Europe</th>\n",
       "      <td>41.125000</td>\n",
       "      <td>4440</td>\n",
       "      <td>4325.153779</td>\n",
       "      <td>65.765901</td>\n",
       "    </tr>\n",
       "    <tr>\n",
       "      <th>Latin America</th>\n",
       "      <td>21.485904</td>\n",
       "      <td>1206</td>\n",
       "      <td>480.930507</td>\n",
       "      <td>21.930128</td>\n",
       "    </tr>\n",
       "    <tr>\n",
       "      <th>North America</th>\n",
       "      <td>34.187509</td>\n",
       "      <td>6645</td>\n",
       "      <td>563.691807</td>\n",
       "      <td>23.742195</td>\n",
       "    </tr>\n",
       "    <tr>\n",
       "      <th>Oceania</th>\n",
       "      <td>28.614532</td>\n",
       "      <td>812</td>\n",
       "      <td>850.404869</td>\n",
       "      <td>29.161702</td>\n",
       "    </tr>\n",
       "  </tbody>\n",
       "</table>\n",
       "</div>"
      ],
      "text/plain": [
       "                    mean  count          var        std\n",
       "continent                                              \n",
       "Africa         22.264151    212   198.678709  14.095344\n",
       "Asia           31.541667     72   367.941901  19.181812\n",
       "Europe         41.125000   4440  4325.153779  65.765901\n",
       "Latin America  21.485904   1206   480.930507  21.930128\n",
       "North America  34.187509   6645   563.691807  23.742195\n",
       "Oceania        28.614532    812   850.404869  29.161702"
      ]
     },
     "execution_count": 46,
     "metadata": {},
     "output_type": "execute_result"
    }
   ],
   "source": [
    "df.groupby(['continent'])['price'].agg(['mean', 'count', np.var, np.std])"
   ]
  },
  {
   "cell_type": "markdown",
   "metadata": {},
   "source": [
    "Построим гистограммы."
   ]
  },
  {
   "cell_type": "code",
   "execution_count": 47,
   "metadata": {},
   "outputs": [
    {
     "data": {
      "image/png": "[encoded data removed]",
      "text/plain": [
       "<Figure size 1224x1224 with 6 Axes>"
      ]
     },
     "metadata": {},
     "output_type": "display_data"
    }
   ],
   "source": [
    "groupper='continent'\n",
    "Tot = len(df.groupby(groupper))\n",
    "Cols = 3\n",
    "Rows = Tot // Cols\n",
    "if Tot % Cols != 0:\n",
    "    Rows += 1\n",
    "\n",
    "fig, axes = plt.subplots(nrows=Rows, ncols=Cols, figsize=(17,17))\n",
    "axes = axes.ravel()\n",
    "dfg = df_pr_norm.groupby(groupper)\n",
    "for (group, data), ax in zip(dfg, axes):\n",
    "    data.plot(kind='hist', y='price', ax=ax, title=group, legend=False)\n",
    "    ax.tick_params(labeltop=True, labelbottom=False)\n",
    "    ax.xaxis.set_label_position('top')\n",
    "    \n",
    "line_position = df.groupby(groupper).price.mean()\n",
    "for ax, pos in zip(fig.axes, line_position):\n",
    "    ax.axvline(x=pos, color='g', linestyle='--', label='mean')\n",
    "    ax.legend()\n",
    "\n",
    "line_position = df.groupby(groupper).price.median()\n",
    "for ax, pos in zip(fig.axes, line_position):\n",
    "    ax.axvline(x=pos, color='r', linestyle='--', label='median')\n",
    "    ax.legend()\n",
    "    \n",
    "for j in range(Rows*Cols-Tot):\n",
    "    fig.delaxes(axes[Tot])\n",
    "    Tot+=1"
   ]
  },
  {
   "cell_type": "markdown",
   "metadata": {},
   "source": [
    "<div align=\"center\"> Рисунок 12. - Гистограммы статистических показателей цены по континентам."
   ]
  },
  {
   "cell_type": "markdown",
   "metadata": {},
   "source": [
    "Опишем распределения:"
   ]
  },
  {
   "cell_type": "markdown",
   "metadata": {},
   "source": [
    "В основном распределения показывают куполообразную форму с левым сдвигом, что отражает нормальное распределение.\n",
    "\n",
    "Показатели среднего, моды и медианы не совпадают, что обусловленно отмеченным выше левым сдвигом."
   ]
  },
  {
   "cell_type": "markdown",
   "metadata": {},
   "source": [
    "Построим графики \"ящик с усами\" в разбивке по континентам:"
   ]
  },
  {
   "cell_type": "code",
   "execution_count": 48,
   "metadata": {},
   "outputs": [
    {
     "data": {
      "image/png": "[encoded data removed]",
      "text/plain": [
       "<Figure size 1080x648 with 6 Axes>"
      ]
     },
     "metadata": {},
     "output_type": "display_data"
    }
   ],
   "source": [
    "groupper='continent'\n",
    "Tot = len(df.groupby(groupper))\n",
    "Cols = 3\n",
    "Rows = Tot // Cols\n",
    "if Tot % Cols != 0:\n",
    "    Rows += 1\n",
    "fig, axes = plt.subplots(nrows=Rows, ncols=Cols, figsize=(15,9))\n",
    "axes = axes.ravel()\n",
    "dfg = df_pr_norm.groupby(groupper)\n",
    "for (group, data), ax in zip(dfg, axes):\n",
    "    data.plot(kind='box', y='price', ax=ax, title=group, legend=False)\n",
    "    ax.tick_params(labeltop=True, labelbottom=False)\n",
    "    ax.xaxis.set_label_position('top')\n",
    "for j in range(Rows*Cols-Tot):\n",
    "    fig.delaxes(axes[Tot])\n",
    "    Tot+=1    "
   ]
  },
  {
   "cell_type": "markdown",
   "metadata": {},
   "source": [
    "<div align=\"center\"> Рисунок 13. - Диаграммы \"ящик с усами\" для оценки плотности распределения цены по континентам."
   ]
  },
  {
   "cell_type": "markdown",
   "metadata": {},
   "source": [
    "Диаграммы \"ящик с усами\" подтверждают выводы по графикам статистических показателей моды, медианы и средней ценового распределения.\n",
    "\n",
    "В основном большая часть значений цены лежит в диапазоне до 40 единиц цены во всех регионах. При этом в Латинской Америке большая часть популярных вин находится в сегмент дешевого вина до 20 единиц цены."
   ]
  },
  {
   "cell_type": "markdown",
   "metadata": {},
   "source": [
    "Построим линейную регрессию зависимости между ценой продукта и его рейтингом."
   ]
  },
  {
   "cell_type": "code",
   "execution_count": 49,
   "metadata": {},
   "outputs": [
    {
     "data": {
      "text/plain": [
       "<AxesSubplot:xlabel='points', ylabel='price'>"
      ]
     },
     "execution_count": 49,
     "metadata": {},
     "output_type": "execute_result"
    },
    {
     "data": {
      "image/png": "[encoded data removed]",
      "text/plain": [
       "<Figure size 432x288 with 1 Axes>"
      ]
     },
     "metadata": {},
     "output_type": "display_data"
    }
   ],
   "source": [
    "plt.figsize=(5,5)\n",
    "sns.regplot(x=df_pr_norm['points'], y=df_pr_norm['price'], data=df)"
   ]
  },
  {
   "cell_type": "markdown",
   "metadata": {},
   "source": [
    "<div align=\"center\"> Рисунок 14. - График линейной регрессии для зависимости цены и рейтинга."
   ]
  },
  {
   "cell_type": "markdown",
   "metadata": {},
   "source": [
    "График подтверждает ранее сделанный вывод: чем выше рейтинг, тем выше цена вина"
   ]
  },
  {
   "cell_type": "markdown",
   "metadata": {},
   "source": [
    "## Шаг 6. Проверка гипотез"
   ]
  },
  {
   "cell_type": "markdown",
   "metadata": {},
   "source": [
    "* H0: Средние пользовательские рейтинги красного и белого вина одинаковые.\n",
    "* H1:Средние пользовательские рейтинги красного и белого вина разные.\n",
    "\n",
    "Задать самостоятельно пороговое значение alpha."
   ]
  },
  {
   "cell_type": "markdown",
   "metadata": {},
   "source": [
    "H0: Средние пользовательские рейтинги красного и белого вина одинаковые.<br>\n",
    "H1: Средние пользовательские рейтинги красного и белого вина разные."
   ]
  },
  {
   "cell_type": "markdown",
   "metadata": {},
   "source": [
    "Определим средний рейтинг вина по цветам:\n"
   ]
  },
  {
   "cell_type": "code",
   "execution_count": 50,
   "metadata": {},
   "outputs": [
    {
     "data": {
      "text/html": [
       "<div>\n",
       "<style scoped>\n",
       "    .dataframe tbody tr th:only-of-type {\n",
       "        vertical-align: middle;\n",
       "    }\n",
       "\n",
       "    .dataframe tbody tr th {\n",
       "        vertical-align: top;\n",
       "    }\n",
       "\n",
       "    .dataframe thead th {\n",
       "        text-align: right;\n",
       "    }\n",
       "</style>\n",
       "<table border=\"1\" class=\"dataframe\">\n",
       "  <thead>\n",
       "    <tr style=\"text-align: right;\">\n",
       "      <th></th>\n",
       "      <th>points</th>\n",
       "    </tr>\n",
       "    <tr>\n",
       "      <th>color</th>\n",
       "      <th></th>\n",
       "    </tr>\n",
       "  </thead>\n",
       "  <tbody>\n",
       "    <tr>\n",
       "      <th>other</th>\n",
       "      <td>87.323838</td>\n",
       "    </tr>\n",
       "    <tr>\n",
       "      <th>red</th>\n",
       "      <td>88.080221</td>\n",
       "    </tr>\n",
       "    <tr>\n",
       "      <th>white</th>\n",
       "      <td>87.457082</td>\n",
       "    </tr>\n",
       "  </tbody>\n",
       "</table>\n",
       "</div>"
      ],
      "text/plain": [
       "          points\n",
       "color           \n",
       "other  87.323838\n",
       "red    88.080221\n",
       "white  87.457082"
      ]
     },
     "execution_count": 50,
     "metadata": {},
     "output_type": "execute_result"
    }
   ],
   "source": [
    "pr_c = df.pivot_table('points', index= ['color'], aggfunc='mean')\n",
    "pr_c"
   ]
  },
  {
   "cell_type": "markdown",
   "metadata": {},
   "source": [
    "Средняя рейтинг красного вина выше, прочие вина не учитываем."
   ]
  },
  {
   "cell_type": "code",
   "execution_count": 51,
   "metadata": {},
   "outputs": [
    {
     "name": "stdout",
     "output_type": "stream",
     "text": [
      "(9424, 10) (3297, 10)\n"
     ]
    }
   ],
   "source": [
    "df_red=df[df['color'] == 'red']\n",
    "df_white=df[df['color'] == 'white']\n",
    "print(df_red.shape, df_white.shape)"
   ]
  },
  {
   "cell_type": "markdown",
   "metadata": {},
   "source": [
    "Красных вин почти в три раза больше."
   ]
  },
  {
   "cell_type": "markdown",
   "metadata": {},
   "source": [
    "Проверим наши генеральные совокупности на нормальность распределения"
   ]
  },
  {
   "cell_type": "code",
   "execution_count": 52,
   "metadata": {},
   "outputs": [
    {
     "data": {
      "image/png": "[encoded data removed]",
      "text/plain": [
       "<Figure size 720x432 with 2 Axes>"
      ]
     },
     "metadata": {},
     "output_type": "display_data"
    }
   ],
   "source": [
    "f, (ax_box, ax_hist) = plt.subplots(\n",
    "    2, sharex=True, figsize=(10,6), gridspec_kw= {\"height_ratios\": (0.2, 1)})\n",
    "mean= df_red.points.mean()\n",
    "median= df_red.points.median()\n",
    "mode= df_red.points.mode().values[0]\n",
    "\n",
    "sns.boxplot(data=df_red, x='points', ax=ax_box)\n",
    "ax_box.axvline(mean, color='r', linestyle='-.')\n",
    "ax_box.axvline(median, color='g', linestyle='-.')\n",
    "ax_box.axvline(mode, color='b', linestyle='-.')\n",
    "\n",
    "\n",
    "sns.histplot(data=df_red,  x='points',\n",
    "             ax=ax_hist, kde=True, bins=20).set_title(\"Распределение рейтинга красного вина\")\n",
    "ax_hist.axvline(mean, color='r', linestyle='--', label=\"Средняя\")\n",
    "ax_hist.axvline(median, color='g', linestyle='--', label=\"Медиана\")\n",
    "ax_hist.axvline(mode, color='b', linestyle='--', label=\"Мода\")\n",
    "ax_hist.legend()\n",
    "ax_box.set(xlabel='')\n",
    "plt.show()"
   ]
  },
  {
   "cell_type": "markdown",
   "metadata": {},
   "source": [
    "<div align=\"center\"> Рисунок 15. - Распределение рейтингов красного вина"
   ]
  },
  {
   "cell_type": "code",
   "execution_count": 53,
   "metadata": {},
   "outputs": [
    {
     "data": {
      "image/png": "[encoded data removed]",
      "text/plain": [
       "<Figure size 720x432 with 2 Axes>"
      ]
     },
     "metadata": {},
     "output_type": "display_data"
    }
   ],
   "source": [
    "f, (ax_box, ax_hist) = plt.subplots(\n",
    "    2, sharex=True, figsize=(10,6),gridspec_kw= {\"height_ratios\": (0.2, 1)})\n",
    "mean = df_white.points.mean()\n",
    "median = df_white.points.median()\n",
    "mode = df_white.points.mode().values[0]\n",
    "\n",
    "sns.boxplot(data = df_white, x='points', ax=ax_box)\n",
    "ax_box.axvline(mean, color='r', linestyle='-.')\n",
    "ax_box.axvline(median, color='g', linestyle='-.')\n",
    "ax_box.axvline(mode, color='b', linestyle='-.')\n",
    "\n",
    "\n",
    "sns.histplot(data=df_white,  x='points',\n",
    "             ax=ax_hist, kde=True, bins=20).set_title(\"Распределение рейтингов белого вина\")\n",
    "ax_hist.axvline(mean, color='r', linestyle='--', label=\"Среднее\")\n",
    "ax_hist.axvline(median, color='g', linestyle='--', label=\"Медиана\")\n",
    "ax_hist.axvline(mode, color='b', linestyle='--', label=\"Мода\")\n",
    "ax_hist.legend()\n",
    "ax_box.set(xlabel='')\n",
    "plt.show()"
   ]
  },
  {
   "cell_type": "markdown",
   "metadata": {},
   "source": [
    "<div align=\"center\"> Рисунок 16. - Распределение рейтингов белого вина"
   ]
  },
  {
   "cell_type": "markdown",
   "metadata": {},
   "source": [
    "Обе гистограмма демонстрируют куполообразную форму графика. <br>\n",
    "\n",
    "Данное обстоятельство говорит о нормальном распределении признака рейтинга."
   ]
  },
  {
   "cell_type": "code",
   "execution_count": 54,
   "metadata": {},
   "outputs": [
    {
     "name": "stdout",
     "output_type": "stream",
     "text": [
      "14.986758828673084 0.0005567582608339843\n",
      "С большой вероятностью рейтинги не распределены нормально.\n"
     ]
    }
   ],
   "source": [
    "value, p = stat.normaltest(df_red['points'].sample(500))\n",
    "\n",
    "print(value, p)\n",
    "alpha = 0.001\n",
    "if p >= alpha:\n",
    "\tprint('С большой вероятностью рейтинги распределены нормально.')\n",
    "else:\n",
    "\tprint('С большой вероятностью рейтинги не распределены нормально.')"
   ]
  },
  {
   "cell_type": "code",
   "execution_count": 55,
   "metadata": {},
   "outputs": [
    {
     "name": "stdout",
     "output_type": "stream",
     "text": [
      "15.651896745347061 0.00039923977861044556\n",
      "С большой вероятностью рейтинги не распределены нормально.\n"
     ]
    }
   ],
   "source": [
    "value, p = stat.normaltest(df_white['points'].sample(500))\n",
    "\n",
    "print(value, p)\n",
    "alpha = 0.001\n",
    "if p >= alpha:\n",
    "\tprint('С большой вероятностью рейтинги распределены нормально.')\n",
    "else:\n",
    "\tprint('С большой вероятностью рейтинги не распределены нормально.')"
   ]
  },
  {
   "cell_type": "markdown",
   "metadata": {},
   "source": [
    "Проверка на выборке, равной 500 значениям, показала, что распределение высокой долей вероятности является нормальным, как  для красных, так и для белых вин.  "
   ]
  },
  {
   "cell_type": "code",
   "execution_count": 56,
   "metadata": {},
   "outputs": [
    {
     "data": {
      "text/plain": [
       "count    500.000000\n",
       "mean      88.258000\n",
       "std        3.295019\n",
       "min       80.000000\n",
       "25%       86.000000\n",
       "50%       88.000000\n",
       "75%       91.000000\n",
       "max       97.000000\n",
       "Name: points, dtype: float64"
      ]
     },
     "execution_count": 56,
     "metadata": {},
     "output_type": "execute_result"
    }
   ],
   "source": [
    "df_red500sample = df_red.points.sample(500).sort_values()\n",
    "df_red500sample.describe()"
   ]
  },
  {
   "cell_type": "code",
   "execution_count": 57,
   "metadata": {},
   "outputs": [
    {
     "data": {
      "text/plain": [
       "count    500.000000\n",
       "mean      87.618000\n",
       "std        3.271312\n",
       "min       80.000000\n",
       "25%       85.000000\n",
       "50%       87.000000\n",
       "75%       90.000000\n",
       "max      100.000000\n",
       "Name: points, dtype: float64"
      ]
     },
     "execution_count": 57,
     "metadata": {},
     "output_type": "execute_result"
    }
   ],
   "source": [
    "df_white500sample = df_white.points.sample(500).sort_values()\n",
    "df_white500sample.describe()"
   ]
  },
  {
   "cell_type": "code",
   "execution_count": 58,
   "metadata": {},
   "outputs": [
    {
     "data": {
      "text/plain": [
       "10.85715030060119"
      ]
     },
     "execution_count": 58,
     "metadata": {},
     "output_type": "execute_result"
    }
   ],
   "source": [
    "df_red500sample.var()"
   ]
  },
  {
   "cell_type": "code",
   "execution_count": 59,
   "metadata": {},
   "outputs": [
    {
     "data": {
      "text/plain": [
       "<matplotlib.legend.Legend at 0x24a8e8df4c0>"
      ]
     },
     "execution_count": 59,
     "metadata": {},
     "output_type": "execute_result"
    },
    {
     "data": {
      "image/png": "[encoded data removed]",
      "text/plain": [
       "<Figure size 648x360 with 1 Axes>"
      ]
     },
     "metadata": {},
     "output_type": "display_data"
    }
   ],
   "source": [
    "fig, ax = plt.subplots(figsize=(9,5))\n",
    "points_df_red500sample = stat.norm.pdf(\n",
    "    df_red500sample, df_red500sample.mean(), df_red500sample.std())\n",
    "ax.plot (df_red500sample, \n",
    "         points_df_red500sample, label = 'Рейтинги на красное вино')\n",
    "\n",
    "points_df_white500sample = stat.norm.pdf(\n",
    "    df_white500sample, df_white500sample.mean(), df_white500sample.std())\n",
    "ax.plot (df_white500sample,\n",
    "         points_df_white500sample, label = 'Рейтинги на белое вино')\n",
    "\n",
    "r = [df_red500sample.mean(),df_red500sample.mean()]\n",
    "r1 = [0, 0.13]\n",
    "plt.plot(r, r1, \"-.\", linewidth= 1)\n",
    "\n",
    "w = [df_white500sample.mean(),df_white500sample.mean()]\n",
    "w1 = [0, 0.13]\n",
    "plt.plot(w, w1, \"-.\", linewidth= 1)\n",
    "\n",
    "plt.xlabel('Рейтинг')\n",
    "plt.ylabel('pdf')\n",
    "plt.legend()"
   ]
  },
  {
   "cell_type": "markdown",
   "metadata": {},
   "source": [
    "<div align=\"center\"> Рисунок 17. - Распределение рейтингов по цвету вина"
   ]
  },
  {
   "cell_type": "markdown",
   "metadata": {},
   "source": [
    "Исходя из визуального отображения - средние рейтинги красного вина больше, чем рейтинги белого вина."
   ]
  },
  {
   "cell_type": "markdown",
   "metadata": {},
   "source": [
    "Осуществим проверку гипотезы статистическим тестом.\n",
    "(Критерий alpha, расчитанный по тесту Стьюдента, примем равный 0,01).\n",
    "<br>\n",
    "<br>"
   ]
  },
  {
   "cell_type": "markdown",
   "metadata": {},
   "source": [
    "Сформулируем нулевую и альтернативную гипотезы:\n",
    "- H0: Средние пользовательские рейтинги красного и белого вина одинаковы.\n",
    "- H1: Средние пользовательские рейтинги красного и белого вина различны."
   ]
  },
  {
   "cell_type": "code",
   "execution_count": 60,
   "metadata": {},
   "outputs": [
    {
     "name": "stdout",
     "output_type": "stream",
     "text": [
      "Statistics=3.082, p=0.002\n",
      "Средние пользовательские рейтинги красного и белого вина различны.\n"
     ]
    }
   ],
   "source": [
    "statistics, p = stat.ttest_ind(df_red500sample, df_white500sample,\n",
    "                               equal_var = False)\n",
    "\n",
    "print('Statistics=%.3f, p=%.3f' % (statistics, p))\n",
    "\n",
    "alpha = 0.01  # 1% определенный ранее уровень значимости\n",
    "if p > alpha:\n",
    "\tprint('Средние пользовательские рейтинги красного и белого вина одинаковы.')\n",
    "else:\n",
    "\tprint('Средние пользовательские рейтинги красного и белого вина различны.')"
   ]
  },
  {
   "cell_type": "markdown",
   "metadata": {},
   "source": [
    "Переформулируем гипотезы:\n",
    "\n",
    "H0: Средние пользовательские рейтинги красного и белого вина одинаковы.\n",
    "\n",
    "H1: Средние пользовательские рейтинги красного вина выше рейтингов белого вина."
   ]
  },
  {
   "cell_type": "code",
   "execution_count": 61,
   "metadata": {},
   "outputs": [
    {
     "name": "stdout",
     "output_type": "stream",
     "text": [
      "p-value:  0.001055737238613653\n",
      "Средние пользовательские рейтинги красного вина выше рейтингов белого вина\n"
     ]
    }
   ],
   "source": [
    "alpha = 0.01\n",
    "results = stat.ttest_ind(df_red500sample, df_white500sample, \n",
    "                         equal_var = False, alternative = 'greater')\n",
    "\n",
    "print('p-value: ', results.pvalue)\n",
    "\n",
    "if (results.pvalue < alpha):\n",
    "\tprint('Средние пользовательские рейтинги красного вина выше рейтингов белого вина')\n",
    "else:\n",
    "\tprint('Средние пользовательские рейтинги красного и белого вина одинаковы')"
   ]
  },
  {
   "cell_type": "markdown",
   "metadata": {},
   "source": [
    "В результате проверки гипотез с большой долей вероятности было подтверждено предположение, что средние пользовательские рейтинги красного вина выше средних пользовательских рейтингов белого вина.\n",
    "<br>\n",
    "<br>\n",
    "<br>\n",
    "<br>\n",
    "<br>\n",
    "<br>\n",
    "<br>\n",
    "<br>"
   ]
  },
  {
   "cell_type": "markdown",
   "metadata": {},
   "source": [
    "## Выводы:\n",
    "\n",
    "1. Большое количество данных от покупателей вина из Северной Америки объясняется тем, что исследование проводилось американским журналом.\n",
    "\n",
    "2. Широкий охват выборки исследования (20 000 значений) свидельствует о изучении массовой продукции винодельческой отрасли, что косвенно подтверждается наличием небольшого количества дорогих вин дороже 300 единиц цены (предположтельно долларов США) - 13 шт. Также отсутствие указания года сбора урожая, является вторым признаком изучения массового рынка вина. Это обусловлено тем, что коллекционные вина предполагают указание года сбор урожая. Отсутствие в выборке коллекционных вин положительно влияет на анализ данных, так как исключает влияние субъективного фактора - оценки вин отдельными сомелье. Несмотря на профессиональность деятельности сомелье, их оценки не были бы массовыми. При этом массовость является неотъемлемым признаком статистического анализа данных.    \n",
    "\n",
    "3. Пропуски заполнения отдельных признаков, например region_2, обусловлены спецификой тематики исследования: region_2 параметр, во - первых, необязательный к заполнению, во - вторых, большая глубина детализации локализации производства вина характерна для коллекционных вин, а опрос проводился среди широких масс потребителей, а не коллекционеров, что в свою очрердь перекликается с вышеуказанным пунктом.\n",
    "\n",
    "4. Разница в средних ценах вина, как по континентам, так и по странам, в большой степени коррелирует со среднем уровнем дохода на душу населения, в богатых и развитых странах средняя цена на вино выше, чем в развивающихся странах, соотвественно отсюда же вытекает градация разделения средних цен по континентам и условного раздления цен на 3 группы, богатые - Северная Америка и Европа, развивающиеся - Азия и Океания, страны третьего мира - Африка и Латинская Америка.\n",
    "\n",
    "5. Превосходство красных вин над белыми выражается в следующих показателях: \n",
    "    - популярность красных вин почти в три раза превышает популярность белых вин,\n",
    "    - средняя цена на красное вино выше средней цены на белое вино,\n",
    "    - средний пользовательский рейтинг красного вина выше среднего пользовательского рейтинга белого вина.\n",
    "   \n",
    "6. Средний пользовательский рейтинг вина влияет на его цену. Что в свою очередь отражает прямую кореляцию расходов на производство вина и его цену: чем больше тратится на производство качественного вина, тем выше его вкусовые, и соответственно потребительские свойства. Высокие потребительские свойства дорого вина выражаются высокими пользовательскими рейтингами. "
   ]
  },
  {
   "cell_type": "markdown",
   "metadata": {},
   "source": [
    "**<center>Список литературы</center>**"
   ]
  },
  {
   "cell_type": "markdown",
   "metadata": {},
   "source": [
    "1. Андерсон, К, Аналитическая культура: от сбора данных до бизнес-результатов / Карл Андерсон. - Москва : Манн, Иванов и Фербер, 2017. - 324 с.\n",
    "2. Бенгфорт Бенджамин, Билбро Ребекка, Охеда Тони, Прикладной анализ текстовых данных на Python. Машинное обучение и создание приложений обработки естественного языка. — СПб.: Питер, 2019. \n",
    "3. Мэтиз Э., Изучаем Python. Программирование игр, визуализация данных, веб-приложения. — СПб.: Питер, 2017. \n",
    "4. Плас Дж. Вандер, Python для сложных задач: наука о данных и машинное обучение. — СПб.: Питер, 2018.\n",
    "5. Рашка С. Р28 Python и машинное обучение / пер. с англ. А. В. Логунова. - М.: ДМК Пресс, 2017.  \n",
    "6. Шарден Б., Массарон Л., Боскетти А.,  Крупномасштабное машинное обучение вместе с Python. Пер. с анг. А. В. Логунова. – М.: ДМК Пресс, 2018. "
   ]
  }
 ],
 "metadata": {
  "kernelspec": {
   "display_name": "Python 3 (ipykernel)",
   "language": "python",
   "name": "python3"
  },
  "language_info": {
   "codemirror_mode": {
    "name": "ipython",
    "version": 3
   },
   "file_extension": ".py",
   "mimetype": "text/x-python",
   "name": "python",
   "nbconvert_exporter": "python",
   "pygments_lexer": "ipython3",
   "version": "3.9.13"
  },
  "toc": {
   "nav_menu": {},
   "number_sections": true,
   "sideBar": true,
   "skip_h1_title": false,
   "toc_cell": false,
   "toc_position": {},
   "toc_section_display": "block",
   "toc_window_display": false
  },
  "varInspector": {
   "cols": {
    "lenName": 16,
    "lenType": 16,
    "lenVar": 40
   },
   "kernels_config": {
    "python": {
     "delete_cmd_postfix": "",
     "delete_cmd_prefix": "del ",
     "library": "var_list.py",
     "varRefreshCmd": "print(var_dic_list())"
    },
    "r": {
     "delete_cmd_postfix": ") ",
     "delete_cmd_prefix": "rm(",
     "library": "var_list.r",
     "varRefreshCmd": "cat(var_dic_list()) "
    }
   },
   "types_to_exclude": [
    "module",
    "function",
    "builtin_function_or_method",
    "instance",
    "_Feature"
   ],
   "window_display": false
  }
 },
 "nbformat": 4,
 "nbformat_minor": 2
}
